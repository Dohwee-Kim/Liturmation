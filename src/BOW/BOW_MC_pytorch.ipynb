{
 "cells": [
  {
   "cell_type": "markdown",
   "metadata": {},
   "source": [
    "# data는 김도휘 형제님과 김명찬 형제님이 만들어주신 보편지향 기도 데이터를 사용하였습니다. "
   ]
  },
  {
   "cell_type": "code",
   "execution_count": 1,
   "metadata": {},
   "outputs": [],
   "source": [
    "import pandas as pd\n",
    "from sklearn.model_selection import train_test_split\n",
    "\n",
    "## CSV 에서 기도문 읽어오기\n",
    "def read_data(path_to_file):\n",
    "    df = pd.read_csv(path_to_file, dtype=str)\n",
    "    return df\n",
    "\n",
    "df = read_data('../../data/pray456_v3.csv')"
   ]
  },
  {
   "cell_type": "code",
   "execution_count": 2,
   "metadata": {},
   "outputs": [],
   "source": [
    "df.to_csv('../../data/pray456_v3withid.csv')"
   ]
  },
  {
   "cell_type": "code",
   "execution_count": 3,
   "metadata": {},
   "outputs": [
    {
     "name": "stdout",
     "output_type": "stream",
     "text": [
      "774\n",
      "774\n"
     ]
    }
   ],
   "source": [
    "X = df['content']\n",
    "y = df['label']\n",
    "print(len(X))\n",
    "print(len(y))"
   ]
  },
  {
   "cell_type": "code",
   "execution_count": 4,
   "metadata": {},
   "outputs": [
    {
     "data": {
      "text/plain": [
       "'주님, 대림시기를 맞는 교회가 회개와 화해의 생활을 하며 저희에게  오실 아기 예수님을 기쁜 마음으로 맞이할 수 있도록 도와주소서.'"
      ]
     },
     "execution_count": 4,
     "metadata": {},
     "output_type": "execute_result"
    }
   ],
   "source": [
    "X[0]"
   ]
  },
  {
   "cell_type": "code",
   "execution_count": 5,
   "metadata": {},
   "outputs": [
    {
     "data": {
      "text/plain": [
       "(50,)"
      ]
     },
     "execution_count": 5,
     "metadata": {},
     "output_type": "execute_result"
    }
   ],
   "source": [
    "y_quiz = df['content'].sample(50)\n",
    "y_quiz.shape"
   ]
  },
  {
   "cell_type": "code",
   "execution_count": 6,
   "metadata": {},
   "outputs": [],
   "source": [
    "y_quiz.sort_index().to_csv('../../data/quiz_pray1_sample50.csv')"
   ]
  },
  {
   "cell_type": "markdown",
   "metadata": {},
   "source": [
    "## y data one_hot encoding"
   ]
  },
  {
   "cell_type": "code",
   "execution_count": 7,
   "metadata": {},
   "outputs": [
    {
     "name": "stdout",
     "output_type": "stream",
     "text": [
      "<class 'str'> 0    1\n",
      "1    2\n",
      "2    3\n",
      "3    4\n",
      "4    1\n",
      "Name: label, dtype: object\n",
      "[0 1 2 3 0]\n",
      "[0 1 2 3 0]\n"
     ]
    }
   ],
   "source": [
    "from numpy import array\n",
    "from numpy import argmax\n",
    "from sklearn.preprocessing import LabelEncoder\n",
    "from sklearn.preprocessing import OneHotEncoder\n",
    "\n",
    "print(type(y[0]), y[:5])\n",
    "\n",
    "# integer encode\n",
    "label_encoder = LabelEncoder()\n",
    "integer_encoded = label_encoder.fit_transform(y)\n",
    "print(integer_encoded[:5])\n",
    "\n",
    "# # one_hot encode\n",
    "# onehot_encoder = OneHotEncoder(sparse=False)\n",
    "# integer_encoded = integer_encoded.reshape(len(integer_encoded), )\n",
    "# onehot_encoded = onehot_encoder.fit_transform(integer_encoded)\n",
    "# print(onehot_encoded[:5])\n",
    "\n",
    "# setup y \n",
    "# y = onehot_encoded\n",
    "y= integer_encoded\n",
    "print(y[:5])"
   ]
  },
  {
   "cell_type": "markdown",
   "metadata": {},
   "source": [
    "## 띄어쓰기로 구분"
   ]
  },
  {
   "cell_type": "code",
   "execution_count": 8,
   "metadata": {},
   "outputs": [],
   "source": [
    "X = [x.split() for x in X]"
   ]
  },
  {
   "cell_type": "code",
   "execution_count": 9,
   "metadata": {},
   "outputs": [
    {
     "data": {
      "text/plain": [
       "['주님,',\n",
       " '대림시기를',\n",
       " '맞는',\n",
       " '교회가',\n",
       " '회개와',\n",
       " '화해의',\n",
       " '생활을',\n",
       " '하며',\n",
       " '저희에게',\n",
       " '오실',\n",
       " '아기',\n",
       " '예수님을',\n",
       " '기쁜',\n",
       " '마음으로',\n",
       " '맞이할',\n",
       " '수',\n",
       " '있도록',\n",
       " '도와주소서.']"
      ]
     },
     "execution_count": 9,
     "metadata": {},
     "output_type": "execute_result"
    }
   ],
   "source": [
    "X[0]"
   ]
  },
  {
   "cell_type": "markdown",
   "metadata": {},
   "source": [
    " "
   ]
  },
  {
   "cell_type": "markdown",
   "metadata": {},
   "source": [
    "## 고유 토큰 인덱싱"
   ]
  },
  {
   "cell_type": "code",
   "execution_count": 10,
   "metadata": {},
   "outputs": [],
   "source": [
    "from collections import defaultdict"
   ]
  },
  {
   "cell_type": "code",
   "execution_count": 11,
   "metadata": {},
   "outputs": [],
   "source": [
    "# 단어마다 고유한 인덱스를 부여하기 위한 dictionary\n",
    "token_to_index = defaultdict(lambda : len(token_to_index))"
   ]
  },
  {
   "cell_type": "code",
   "execution_count": 12,
   "metadata": {},
   "outputs": [],
   "source": [
    "# 단어에 대한 고유 인덱스를 부여하는 함수\n",
    "def convert_token_to_idx(token_ls):\n",
    "    for tokens in token_ls:\n",
    "        yield [token_to_index[token] for token in tokens]\n",
    "    return"
   ]
  },
  {
   "cell_type": "code",
   "execution_count": 13,
   "metadata": {},
   "outputs": [],
   "source": [
    "X = list(convert_token_to_idx(X))"
   ]
  },
  {
   "cell_type": "code",
   "execution_count": 14,
   "metadata": {},
   "outputs": [],
   "source": [
    "# 고유 인덱스로 변환될 경우, 원래 어떤 단어였는지 알기 어려우므로,\n",
    "# 인덱스로 변환된 단어를 본래의 단어로 재변환하기 위한 dictionary 생성\n",
    "index_to_token = {val : key for key,val in token_to_index.items()}"
   ]
  },
  {
   "cell_type": "markdown",
   "metadata": {},
   "source": [
    " "
   ]
  },
  {
   "cell_type": "markdown",
   "metadata": {},
   "source": [
    "#### 인덱싱 결과 확인 "
   ]
  },
  {
   "cell_type": "code",
   "execution_count": 15,
   "metadata": {},
   "outputs": [],
   "source": [
    "import operator"
   ]
  },
  {
   "cell_type": "code",
   "execution_count": 16,
   "metadata": {},
   "outputs": [
    {
     "name": "stdout",
     "output_type": "stream",
     "text": [
      "주님, 0\n",
      "대림시기를 1\n",
      "맞는 2\n",
      "교회가 3\n",
      "회개와 4\n"
     ]
    }
   ],
   "source": [
    "for k,v in sorted(token_to_index.items(), key=operator.itemgetter(1))[:5]:\n",
    "    print (k,v)"
   ]
  },
  {
   "cell_type": "code",
   "execution_count": 17,
   "metadata": {},
   "outputs": [
    {
     "data": {
      "text/plain": [
       "[0, 1, 2, 3, 4, 5, 6, 7, 8, 9, 10, 11, 12, 13, 14, 15, 16, 17]"
      ]
     },
     "execution_count": 17,
     "metadata": {},
     "output_type": "execute_result"
    }
   ],
   "source": [
    "X[0]"
   ]
  },
  {
   "cell_type": "markdown",
   "metadata": {},
   "source": [
    " "
   ]
  },
  {
   "cell_type": "markdown",
   "metadata": {},
   "source": [
    "### 빈(empty) 단어 가방(Bag of Words) 생성"
   ]
  },
  {
   "cell_type": "code",
   "execution_count": 18,
   "metadata": {},
   "outputs": [],
   "source": [
    "n_train_reviews = len(X)       # 학습용 리뷰의 총 수\n",
    "n_unique_word = len(token_to_index)  # 고유 단어의 갯수 (BOW의 차원의 크기) "
   ]
  },
  {
   "cell_type": "code",
   "execution_count": 19,
   "metadata": {},
   "outputs": [
    {
     "data": {
      "text/plain": [
       "3329"
      ]
     },
     "execution_count": 19,
     "metadata": {},
     "output_type": "execute_result"
    }
   ],
   "source": [
    "n_unique_word"
   ]
  },
  {
   "cell_type": "markdown",
   "metadata": {},
   "source": [
    " "
   ]
  },
  {
   "cell_type": "markdown",
   "metadata": {},
   "source": [
    "### numpy를 사용하면 memory error 발생 "
   ]
  },
  {
   "cell_type": "code",
   "execution_count": 20,
   "metadata": {},
   "outputs": [],
   "source": [
    "import numpy as np"
   ]
  },
  {
   "cell_type": "code",
   "execution_count": 21,
   "metadata": {},
   "outputs": [],
   "source": [
    "bow = np.zeros((n_train_reviews, n_unique_word), dtype=np.float32)"
   ]
  },
  {
   "cell_type": "markdown",
   "metadata": {},
   "source": [
    " "
   ]
  },
  {
   "cell_type": "markdown",
   "metadata": {},
   "source": [
    "### Scipy 패키지 활용"
   ]
  },
  {
   "cell_type": "code",
   "execution_count": 22,
   "metadata": {},
   "outputs": [],
   "source": [
    "# import scipy.sparse as sps"
   ]
  },
  {
   "cell_type": "code",
   "execution_count": 23,
   "metadata": {},
   "outputs": [],
   "source": [
    "# 학습용 리뷰 수(150,000) x 고유 단어의 수(450,541)의 크기를 갖는 빈 단어가방 생성\n",
    "# bow_data = sps.lil_matrix((n_train_reviews, n_unique_word), dtype=np.int8)"
   ]
  },
  {
   "cell_type": "markdown",
   "metadata": {},
   "source": [
    " "
   ]
  },
  {
   "cell_type": "markdown",
   "metadata": {},
   "source": [
    "### 단어 가방 채우기"
   ]
  },
  {
   "cell_type": "code",
   "execution_count": 24,
   "metadata": {},
   "outputs": [],
   "source": [
    "for i, tokens in enumerate(X):\n",
    "    for token in tokens:\n",
    "        # i번 째 리뷰에 등장한 단어들을 세서, 고유 번호에 1씩 더해준다.\n",
    "        bow[i, token] += 1.0"
   ]
  },
  {
   "cell_type": "markdown",
   "metadata": {},
   "source": [
    " "
   ]
  },
  {
   "cell_type": "markdown",
   "metadata": {},
   "source": [
    "### Train / test split"
   ]
  },
  {
   "cell_type": "code",
   "execution_count": 25,
   "metadata": {},
   "outputs": [
    {
     "name": "stdout",
     "output_type": "stream",
     "text": [
      "(619, 3329) (155, 3329) (619,) (155,)\n",
      "[3 2 3 1 0]\n"
     ]
    }
   ],
   "source": [
    "bow_train, bow_test, y_train, y_test = train_test_split(bow, y, test_size=0.2, random_state=1212)\n",
    "print(bow_train.shape, bow_test.shape, y_train.shape, y_test.shape)\n",
    "print(y_train[:5])"
   ]
  },
  {
   "cell_type": "markdown",
   "metadata": {},
   "source": [
    "## Logistic Regression"
   ]
  },
  {
   "cell_type": "code",
   "execution_count": 26,
   "metadata": {},
   "outputs": [],
   "source": [
    "from sklearn.linear_model import LogisticRegression"
   ]
  },
  {
   "cell_type": "code",
   "execution_count": 27,
   "metadata": {},
   "outputs": [],
   "source": [
    "model = LogisticRegression(multi_class='multinomial', solver='lbfgs')"
   ]
  },
  {
   "cell_type": "markdown",
   "metadata": {},
   "source": [
    "### Train"
   ]
  },
  {
   "cell_type": "code",
   "execution_count": 28,
   "metadata": {},
   "outputs": [
    {
     "data": {
      "text/plain": [
       "LogisticRegression(C=1.0, class_weight=None, dual=False, fit_intercept=True,\n",
       "          intercept_scaling=1, max_iter=100, multi_class='multinomial',\n",
       "          n_jobs=1, penalty='l2', random_state=None, solver='lbfgs',\n",
       "          tol=0.0001, verbose=0, warm_start=False)"
      ]
     },
     "execution_count": 28,
     "metadata": {},
     "output_type": "execute_result"
    }
   ],
   "source": [
    "model.fit(bow_train, y_train)"
   ]
  },
  {
   "cell_type": "markdown",
   "metadata": {},
   "source": [
    " "
   ]
  },
  {
   "cell_type": "markdown",
   "metadata": {},
   "source": [
    "### Test"
   ]
  },
  {
   "cell_type": "code",
   "execution_count": 29,
   "metadata": {},
   "outputs": [],
   "source": [
    "from sklearn.metrics import classification_report\n",
    "from sklearn.metrics import accuracy_score"
   ]
  },
  {
   "cell_type": "code",
   "execution_count": 30,
   "metadata": {},
   "outputs": [],
   "source": [
    "predict = model.predict(bow_test)\n",
    "accuracy = accuracy_score(y_test, predict)"
   ]
  },
  {
   "cell_type": "code",
   "execution_count": 31,
   "metadata": {},
   "outputs": [
    {
     "name": "stdout",
     "output_type": "stream",
     "text": [
      "Accuracy :  0.7870967741935484\n",
      "             precision    recall  f1-score   support\n",
      "\n",
      "          0       0.86      0.95      0.90        38\n",
      "          1       0.84      0.76      0.80        42\n",
      "          2       0.81      0.71      0.75        41\n",
      "          3       0.64      0.74      0.68        34\n",
      "\n",
      "avg / total       0.79      0.79      0.79       155\n",
      "\n"
     ]
    }
   ],
   "source": [
    "print('Accuracy : ',accuracy)\n",
    "print(classification_report(y_test, predict))"
   ]
  },
  {
   "cell_type": "markdown",
   "metadata": {},
   "source": [
    "## Pytorch"
   ]
  },
  {
   "cell_type": "code",
   "execution_count": 32,
   "metadata": {},
   "outputs": [],
   "source": [
    "import torch"
   ]
  },
  {
   "cell_type": "code",
   "execution_count": 36,
   "metadata": {},
   "outputs": [
    {
     "name": "stderr",
     "output_type": "stream",
     "text": [
      "C:\\Users\\kmc55\\Anaconda3\\lib\\site-packages\\ipykernel_launcher.py:3: UserWarning: To copy construct from a tensor, it is recommended to use sourceTensor.clone().detach() or sourceTensor.clone().detach().requires_grad_(True), rather than torch.tensor(sourceTensor).\n",
      "  This is separate from the ipykernel package so we can avoid doing imports until\n"
     ]
    }
   ],
   "source": [
    "# dataset : bow_train, bow_test, y_train, y_test\n",
    "bow_train, y_train, bow_test, y_test = map(\n",
    "    torch.tensor, (bow_train, y_train, bow_test, y_test)\n",
    ")"
   ]
  },
  {
   "cell_type": "code",
   "execution_count": 37,
   "metadata": {},
   "outputs": [
    {
     "name": "stdout",
     "output_type": "stream",
     "text": [
      "torch.Size([619, 3329])\n"
     ]
    }
   ],
   "source": [
    "n, c = bow_train.shape\n",
    "print(bow_train.shape)"
   ]
  },
  {
   "cell_type": "code",
   "execution_count": 38,
   "metadata": {},
   "outputs": [
    {
     "name": "stdout",
     "output_type": "stream",
     "text": [
      "tensor(0) tensor(3)\n",
      "tensor(0) tensor(3)\n"
     ]
    }
   ],
   "source": [
    "print(y_train.min(), y_train.max())\n",
    "print(y_test.min(), y_test.max())"
   ]
  },
  {
   "cell_type": "code",
   "execution_count": 39,
   "metadata": {},
   "outputs": [
    {
     "name": "stdout",
     "output_type": "stream",
     "text": [
      "tensor([[1., 0., 0.,  ..., 0., 0., 0.],\n",
      "        [1., 0., 0.,  ..., 0., 0., 0.],\n",
      "        [1., 1., 0.,  ..., 0., 0., 0.],\n",
      "        [1., 0., 0.,  ..., 0., 0., 0.],\n",
      "        [1., 0., 0.,  ..., 0., 0., 0.]])\n",
      "tensor([3, 2, 3, 1, 0])\n"
     ]
    }
   ],
   "source": [
    "bs = 64  # batch size\n",
    "\n",
    "xb = bow_train[0:bs]  # a mini-batch from x\n",
    "yb = y_train[0:bs]\n",
    "xv = bow_test[0:bs]\n",
    "yv = y_test[0:bs]\n",
    "\n",
    "print(xb[:5])\n",
    "print(yb[:5])\n"
   ]
  },
  {
   "cell_type": "code",
   "execution_count": 265,
   "metadata": {},
   "outputs": [
    {
     "name": "stdout",
     "output_type": "stream",
     "text": [
      "tensor(1.3787, grad_fn=<NegBackward>) tensor(0.2500)\n",
      "tensor(1.3791, grad_fn=<NegBackward>) tensor(0.2812)\n"
     ]
    }
   ],
   "source": [
    "import math\n",
    "\n",
    "weights = torch.randn(3329, 4) / math.sqrt(3329)\n",
    "weights.requires_grad_()\n",
    "bias = torch.zeros(4, requires_grad=True)\n",
    "\n",
    "def log_softmax(x):\n",
    "    return x - x.exp().sum(-1).log().unsqueeze(-1)\n",
    "\n",
    "def model(xb):\n",
    "    return log_softmax(xb @ weights + bias)\n",
    "\n",
    "def nll(pred, gt):\n",
    "    return -pred[range(gt.shape[0]), gt].mean()\n",
    "\n",
    "loss_func = nll\n",
    "\n",
    "def accuracy(out, y):\n",
    "    preds = torch.argmax(out, dim=1)\n",
    "    return (preds == y).float().mean()\n",
    "\n",
    "print(loss_func(model(xb), yb), accuracy(model(xb), yb))\n",
    "print(loss_func(model(xv), yv), accuracy(model(xv), yv))\n"
   ]
  },
  {
   "cell_type": "code",
   "execution_count": 266,
   "metadata": {
    "scrolled": true
   },
   "outputs": [
    {
     "name": "stdout",
     "output_type": "stream",
     "text": [
      "tensor(1.0720, grad_fn=<NegBackward>) tensor(0.8140) tensor(1.1751, grad_fn=<NegBackward>) tensor(0.6250)\n",
      "tensor(0.9095, grad_fn=<NegBackward>) tensor(0.8605) tensor(1.0279, grad_fn=<NegBackward>) tensor(0.7031)\n",
      "tensor(0.7943, grad_fn=<NegBackward>) tensor(0.8837) tensor(0.9320, grad_fn=<NegBackward>) tensor(0.7344)\n",
      "tensor(0.7063, grad_fn=<NegBackward>) tensor(0.9302) tensor(0.8649, grad_fn=<NegBackward>) tensor(0.7344)\n",
      "tensor(0.6359, grad_fn=<NegBackward>) tensor(0.9302) tensor(0.8153, grad_fn=<NegBackward>) tensor(0.7656)\n",
      "tensor(0.5778, grad_fn=<NegBackward>) tensor(0.9302) tensor(0.7772, grad_fn=<NegBackward>) tensor(0.7812)\n",
      "tensor(0.5288, grad_fn=<NegBackward>) tensor(0.9302) tensor(0.7471, grad_fn=<NegBackward>) tensor(0.7812)\n",
      "tensor(0.4869, grad_fn=<NegBackward>) tensor(0.9302) tensor(0.7228, grad_fn=<NegBackward>) tensor(0.7812)\n",
      "tensor(0.4506, grad_fn=<NegBackward>) tensor(0.9535) tensor(0.7028, grad_fn=<NegBackward>) tensor(0.7812)\n",
      "tensor(0.4188, grad_fn=<NegBackward>) tensor(0.9535) tensor(0.6861, grad_fn=<NegBackward>) tensor(0.7812)\n"
     ]
    }
   ],
   "source": [
    "from IPython.core.debugger import set_trace\n",
    "\n",
    "lr = 0.5  # learning rate\n",
    "epochs = 100  # how many epochs to train for\n",
    "\n",
    "for epoch in range(epochs):\n",
    "    for i in range((n - 1) // bs + 1):\n",
    "        \n",
    "        start_i = i * bs\n",
    "        end_i = start_i + bs\n",
    "        xb = bow_train[start_i:end_i]\n",
    "        yb = y_train[start_i:end_i]\n",
    "        \n",
    "        ## Feed foward\n",
    "        pred = model(xb)\n",
    "        loss = loss_func(pred, yb)\n",
    "        \n",
    "        ## Backpropagation\n",
    "        loss.backward()\n",
    "        \n",
    "        with torch.no_grad():\n",
    "            weights -= weights.grad * lr\n",
    "            bias -= bias.grad * lr\n",
    "            weights.grad.zero_()\n",
    "            bias.grad.zero_()\n",
    "    \n",
    "    if epoch // 10 == 0:\n",
    "        print(loss_func(model(xb), yb), accuracy(model(xb), yb), loss_func(model(xv), yv), accuracy(model(xv), yv))"
   ]
  },
  {
   "cell_type": "code",
   "execution_count": 267,
   "metadata": {},
   "outputs": [],
   "source": [
    "from torch import nn\n",
    "\n",
    "class Mnist_Logistic(nn.Module):\n",
    "    def __init__(self):\n",
    "        super().__init__()\n",
    "        self.weights = nn.Parameter(torch.randn(3329, 4) / math.sqrt(3329))\n",
    "        self.bias = nn.Parameter(torch.zeros(4))\n",
    "\n",
    "    def forward(self, xb):\n",
    "        return xb @ self.weights + self.bias\n",
    "\n",
    "model = Mnist_Logistic()"
   ]
  },
  {
   "cell_type": "code",
   "execution_count": 261,
   "metadata": {},
   "outputs": [
    {
     "name": "stdout",
     "output_type": "stream",
     "text": [
      "Parameter containing:\n",
      "tensor([[ 5.6228e+00,  7.1804e+00,  1.5089e+00,  7.6837e+00],\n",
      "        [-2.5841e-02, -6.4183e-03, -4.4941e-02,  4.8598e-03],\n",
      "        [-1.1584e-02,  6.6794e-03,  1.8750e-02,  5.1246e-01],\n",
      "        ...,\n",
      "        [ 4.0660e-03,  4.5586e-03,  1.3938e-02,  1.3074e-02],\n",
      "        [-1.5490e-02, -1.6162e-02, -1.4162e-02,  2.8925e-03],\n",
      "        [-1.3852e-02, -4.7789e-03,  1.7368e-02,  3.2919e-03]],\n",
      "       requires_grad=True)\n",
      "Parameter containing:\n",
      "tensor([5.6279, 7.1628, 1.5349, 7.6744], requires_grad=True)\n",
      "tensor(-31.5796) tensor(0.8605)\n"
     ]
    }
   ],
   "source": [
    "loss = loss_func(model(xb), yb)\n",
    "loss.backward()\n",
    "\n",
    "with torch.no_grad():\n",
    "    for p in model.parameters(): \n",
    "        print(p)\n",
    "        p -= p.grad * lr\n",
    "    model.zero_grad()\n",
    "    print(loss_func(model(xb), yb), accuracy(model(xb), yb))"
   ]
  },
  {
   "cell_type": "code",
   "execution_count": 262,
   "metadata": {
    "scrolled": true
   },
   "outputs": [
    {
     "name": "stdout",
     "output_type": "stream",
     "text": [
      "tensor(-36.1496, grad_fn=<NegBackward>) tensor(0.8605)\n",
      "tensor(-40.7196, grad_fn=<NegBackward>) tensor(0.8605)\n",
      "tensor(-45.2896, grad_fn=<NegBackward>) tensor(0.8605)\n",
      "tensor(-49.8596, grad_fn=<NegBackward>) tensor(0.8605)\n",
      "tensor(-54.4296, grad_fn=<NegBackward>) tensor(0.8605)\n",
      "tensor(-58.9996, grad_fn=<NegBackward>) tensor(0.8605)\n",
      "tensor(-63.5696, grad_fn=<NegBackward>) tensor(0.8605)\n",
      "tensor(-68.1396, grad_fn=<NegBackward>) tensor(0.8605)\n",
      "tensor(-72.7097, grad_fn=<NegBackward>) tensor(0.8605)\n",
      "tensor(-77.2797, grad_fn=<NegBackward>) tensor(0.8605)\n",
      "tensor(-81.8497, grad_fn=<NegBackward>) tensor(0.8605)\n",
      "tensor(-86.4197, grad_fn=<NegBackward>) tensor(0.8372)\n",
      "tensor(-90.9897, grad_fn=<NegBackward>) tensor(0.8372)\n",
      "tensor(-95.5597, grad_fn=<NegBackward>) tensor(0.8372)\n",
      "tensor(-100.1297, grad_fn=<NegBackward>) tensor(0.8140)\n",
      "tensor(-104.6998, grad_fn=<NegBackward>) tensor(0.8140)\n",
      "tensor(-109.2698, grad_fn=<NegBackward>) tensor(0.8140)\n",
      "tensor(-113.8398, grad_fn=<NegBackward>) tensor(0.8140)\n",
      "tensor(-118.4098, grad_fn=<NegBackward>) tensor(0.8140)\n",
      "tensor(-122.9798, grad_fn=<NegBackward>) tensor(0.8140)\n",
      "tensor(-127.5498, grad_fn=<NegBackward>) tensor(0.8140)\n",
      "tensor(-132.1198, grad_fn=<NegBackward>) tensor(0.8140)\n",
      "tensor(-136.6898, grad_fn=<NegBackward>) tensor(0.8140)\n",
      "tensor(-141.2598, grad_fn=<NegBackward>) tensor(0.8140)\n",
      "tensor(-145.8299, grad_fn=<NegBackward>) tensor(0.8140)\n",
      "tensor(-150.3999, grad_fn=<NegBackward>) tensor(0.8140)\n",
      "tensor(-154.9699, grad_fn=<NegBackward>) tensor(0.7907)\n",
      "tensor(-159.5399, grad_fn=<NegBackward>) tensor(0.7907)\n",
      "tensor(-164.1099, grad_fn=<NegBackward>) tensor(0.7907)\n",
      "tensor(-168.6800, grad_fn=<NegBackward>) tensor(0.7907)\n",
      "tensor(-173.2500, grad_fn=<NegBackward>) tensor(0.7907)\n",
      "tensor(-177.8200, grad_fn=<NegBackward>) tensor(0.7674)\n",
      "tensor(-182.3900, grad_fn=<NegBackward>) tensor(0.7674)\n",
      "tensor(-186.9600, grad_fn=<NegBackward>) tensor(0.7674)\n",
      "tensor(-191.5300, grad_fn=<NegBackward>) tensor(0.7674)\n",
      "tensor(-196.1000, grad_fn=<NegBackward>) tensor(0.7674)\n",
      "tensor(-200.6700, grad_fn=<NegBackward>) tensor(0.7674)\n",
      "tensor(-205.2401, grad_fn=<NegBackward>) tensor(0.7674)\n",
      "tensor(-209.8101, grad_fn=<NegBackward>) tensor(0.7674)\n",
      "tensor(-214.3801, grad_fn=<NegBackward>) tensor(0.7674)\n",
      "tensor(-218.9501, grad_fn=<NegBackward>) tensor(0.7674)\n",
      "tensor(-223.5201, grad_fn=<NegBackward>) tensor(0.7674)\n",
      "tensor(-228.0901, grad_fn=<NegBackward>) tensor(0.7674)\n",
      "tensor(-232.6601, grad_fn=<NegBackward>) tensor(0.7674)\n",
      "tensor(-237.2301, grad_fn=<NegBackward>) tensor(0.7674)\n",
      "tensor(-241.8001, grad_fn=<NegBackward>) tensor(0.7674)\n",
      "tensor(-246.3702, grad_fn=<NegBackward>) tensor(0.7674)\n",
      "tensor(-250.9402, grad_fn=<NegBackward>) tensor(0.7674)\n",
      "tensor(-255.5101, grad_fn=<NegBackward>) tensor(0.7674)\n",
      "tensor(-260.0802, grad_fn=<NegBackward>) tensor(0.7674)\n",
      "tensor(-264.6502, grad_fn=<NegBackward>) tensor(0.7674)\n",
      "tensor(-269.2202, grad_fn=<NegBackward>) tensor(0.7674)\n",
      "tensor(-273.7902, grad_fn=<NegBackward>) tensor(0.7674)\n",
      "tensor(-278.3602, grad_fn=<NegBackward>) tensor(0.7674)\n",
      "tensor(-282.9302, grad_fn=<NegBackward>) tensor(0.7674)\n",
      "tensor(-287.5002, grad_fn=<NegBackward>) tensor(0.7674)\n",
      "tensor(-292.0703, grad_fn=<NegBackward>) tensor(0.7674)\n",
      "tensor(-296.6403, grad_fn=<NegBackward>) tensor(0.7674)\n",
      "tensor(-301.2102, grad_fn=<NegBackward>) tensor(0.7674)\n",
      "tensor(-305.7802, grad_fn=<NegBackward>) tensor(0.7674)\n",
      "tensor(-310.3502, grad_fn=<NegBackward>) tensor(0.7674)\n",
      "tensor(-314.9203, grad_fn=<NegBackward>) tensor(0.7674)\n",
      "tensor(-319.4902, grad_fn=<NegBackward>) tensor(0.7674)\n",
      "tensor(-324.0603, grad_fn=<NegBackward>) tensor(0.7442)\n",
      "tensor(-328.6303, grad_fn=<NegBackward>) tensor(0.7442)\n",
      "tensor(-333.2003, grad_fn=<NegBackward>) tensor(0.7442)\n",
      "tensor(-337.7702, grad_fn=<NegBackward>) tensor(0.7442)\n",
      "tensor(-342.3403, grad_fn=<NegBackward>) tensor(0.7442)\n",
      "tensor(-346.9103, grad_fn=<NegBackward>) tensor(0.7442)\n",
      "tensor(-351.4803, grad_fn=<NegBackward>) tensor(0.7442)\n",
      "tensor(-356.0503, grad_fn=<NegBackward>) tensor(0.7442)\n",
      "tensor(-360.6203, grad_fn=<NegBackward>) tensor(0.7442)\n",
      "tensor(-365.1903, grad_fn=<NegBackward>) tensor(0.7442)\n",
      "tensor(-369.7603, grad_fn=<NegBackward>) tensor(0.7442)\n",
      "tensor(-374.3303, grad_fn=<NegBackward>) tensor(0.7442)\n",
      "tensor(-378.9004, grad_fn=<NegBackward>) tensor(0.7442)\n",
      "tensor(-383.4704, grad_fn=<NegBackward>) tensor(0.7442)\n",
      "tensor(-388.0403, grad_fn=<NegBackward>) tensor(0.7442)\n",
      "tensor(-392.6104, grad_fn=<NegBackward>) tensor(0.7442)\n",
      "tensor(-397.1804, grad_fn=<NegBackward>) tensor(0.7442)\n",
      "tensor(-401.7504, grad_fn=<NegBackward>) tensor(0.7442)\n",
      "tensor(-406.3203, grad_fn=<NegBackward>) tensor(0.7442)\n",
      "tensor(-410.8904, grad_fn=<NegBackward>) tensor(0.7442)\n",
      "tensor(-415.4604, grad_fn=<NegBackward>) tensor(0.7442)\n",
      "tensor(-420.0304, grad_fn=<NegBackward>) tensor(0.7442)\n",
      "tensor(-424.6004, grad_fn=<NegBackward>) tensor(0.7442)\n",
      "tensor(-429.1704, grad_fn=<NegBackward>) tensor(0.7442)\n",
      "tensor(-433.7404, grad_fn=<NegBackward>) tensor(0.7442)\n",
      "tensor(-438.3105, grad_fn=<NegBackward>) tensor(0.7442)\n",
      "tensor(-442.8804, grad_fn=<NegBackward>) tensor(0.7442)\n",
      "tensor(-447.4504, grad_fn=<NegBackward>) tensor(0.7442)\n",
      "tensor(-452.0205, grad_fn=<NegBackward>) tensor(0.7442)\n",
      "tensor(-456.5904, grad_fn=<NegBackward>) tensor(0.7442)\n",
      "tensor(-461.1605, grad_fn=<NegBackward>) tensor(0.7442)\n",
      "tensor(-465.7305, grad_fn=<NegBackward>) tensor(0.7442)\n",
      "tensor(-470.3005, grad_fn=<NegBackward>) tensor(0.7442)\n",
      "tensor(-474.8705, grad_fn=<NegBackward>) tensor(0.7442)\n",
      "tensor(-479.4406, grad_fn=<NegBackward>) tensor(0.7442)\n",
      "tensor(-484.0105, grad_fn=<NegBackward>) tensor(0.7442)\n",
      "tensor(-488.5806, grad_fn=<NegBackward>) tensor(0.7442)\n"
     ]
    }
   ],
   "source": [
    "def fit():\n",
    "    for epoch in range(epochs):\n",
    "        n_batches = (n - 1) // bs + 1\n",
    "        for i in range(n_batches):\n",
    "            start_i = i * bs\n",
    "            end_i = start_i + bs\n",
    "            \n",
    "            xb = bow_train[start_i:end_i]\n",
    "            yb = y_train[start_i:end_i]\n",
    "            \n",
    "            pred = model(xb)\n",
    "            loss = loss_func(pred, yb)\n",
    "            \n",
    "            #back propagation\n",
    "            loss.backward()\n",
    "            \n",
    "            with torch.no_grad():\n",
    "                for p in model.parameters():\n",
    "                    p -= p.grad * lr\n",
    "                model.zero_grad()\n",
    "        print(loss_func(model(xb), yb), accuracy(model(xb), yb))\n",
    "\n",
    "fit()"
   ]
  },
  {
   "cell_type": "code",
   "execution_count": null,
   "metadata": {},
   "outputs": [],
   "source": []
  }
 ],
 "metadata": {
  "kernelspec": {
   "display_name": "Python 3",
   "language": "python",
   "name": "python3"
  },
  "language_info": {
   "codemirror_mode": {
    "name": "ipython",
    "version": 3
   },
   "file_extension": ".py",
   "mimetype": "text/x-python",
   "name": "python",
   "nbconvert_exporter": "python",
   "pygments_lexer": "ipython3",
   "version": "3.6.4"
  }
 },
 "nbformat": 4,
 "nbformat_minor": 2
}

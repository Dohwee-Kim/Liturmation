{
 "cells": [
  {
   "cell_type": "markdown",
   "metadata": {},
   "source": [
    "# data는 김도휘 형제님과 김명찬 형제님이 만들어주신 보편지향 기도 데이터를 사용하였습니다. "
   ]
  },
  {
   "cell_type": "code",
   "execution_count": 3,
   "metadata": {},
   "outputs": [],
   "source": [
    "import pandas as pd\n",
    "from sklearn.model_selection import train_test_split\n",
    "\n",
    "## CSV 에서 기도문 읽어오기\n",
    "def read_data(path_to_file):\n",
    "    df = pd.read_csv(path_to_file, dtype=str)\n",
    "    return df\n",
    "\n",
    "df = read_data('../../data/pray456_v3.csv')"
   ]
  },
  {
   "cell_type": "code",
   "execution_count": 4,
   "metadata": {},
   "outputs": [],
   "source": [
    "df.to_csv('../../data/pray456_v3withid.csv')"
   ]
  },
  {
   "cell_type": "code",
   "execution_count": 5,
   "metadata": {},
   "outputs": [
    {
     "name": "stdout",
     "output_type": "stream",
     "text": [
      "774\n",
      "774\n"
     ]
    }
   ],
   "source": [
    "X = df['content']\n",
    "y = df['label']\n",
    "print(len(X))\n",
    "print(len(y))"
   ]
  },
  {
   "cell_type": "code",
   "execution_count": 6,
   "metadata": {},
   "outputs": [
    {
     "data": {
      "text/plain": [
       "'주님, 대림시기를 맞는 교회가 회개와 화해의 생활을 하며 저희에게  오실 아기 예수님을 기쁜 마음으로 맞이할 수 있도록 도와주소서.'"
      ]
     },
     "execution_count": 6,
     "metadata": {},
     "output_type": "execute_result"
    }
   ],
   "source": [
    "X[0]"
   ]
  },
  {
   "cell_type": "code",
   "execution_count": 7,
   "metadata": {},
   "outputs": [
    {
     "data": {
      "text/plain": [
       "(50,)"
      ]
     },
     "execution_count": 7,
     "metadata": {},
     "output_type": "execute_result"
    }
   ],
   "source": [
    "y_quiz = df['content'].sample(50)\n",
    "y_quiz.shape"
   ]
  },
  {
   "cell_type": "code",
   "execution_count": 8,
   "metadata": {},
   "outputs": [],
   "source": [
    "y_quiz.sort_index().to_csv('../../data/quiz_pray1_sample50.csv')"
   ]
  },
  {
   "cell_type": "markdown",
   "metadata": {},
   "source": [
    "## y data one_hot encoding"
   ]
  },
  {
   "cell_type": "code",
   "execution_count": 9,
   "metadata": {},
   "outputs": [
    {
     "name": "stdout",
     "output_type": "stream",
     "text": [
      "<class 'str'> 0    1\n",
      "1    2\n",
      "2    3\n",
      "3    4\n",
      "4    1\n",
      "Name: label, dtype: object\n",
      "[0 1 2 3 0]\n",
      "[0 1 2 3 0]\n"
     ]
    }
   ],
   "source": [
    "from numpy import array\n",
    "from numpy import argmax\n",
    "from sklearn.preprocessing import LabelEncoder\n",
    "from sklearn.preprocessing import OneHotEncoder\n",
    "\n",
    "print(type(y[0]), y[:5])\n",
    "\n",
    "# integer encode\n",
    "label_encoder = LabelEncoder()\n",
    "integer_encoded = label_encoder.fit_transform(y)\n",
    "print(integer_encoded[:5])\n",
    "\n",
    "# # one_hot encode\n",
    "# onehot_encoder = OneHotEncoder(sparse=False)\n",
    "# integer_encoded = integer_encoded.reshape(len(integer_encoded), )\n",
    "# onehot_encoded = onehot_encoder.fit_transform(integer_encoded)\n",
    "# print(onehot_encoded[:5])\n",
    "\n",
    "# setup y \n",
    "# y = onehot_encoded\n",
    "y= integer_encoded\n",
    "print(y[:5])"
   ]
  },
  {
   "cell_type": "markdown",
   "metadata": {},
   "source": [
    "## 띄어쓰기로 구분"
   ]
  },
  {
   "cell_type": "code",
   "execution_count": 10,
   "metadata": {},
   "outputs": [],
   "source": [
    "X = [x.split() for x in X]"
   ]
  },
  {
   "cell_type": "code",
   "execution_count": 11,
   "metadata": {},
   "outputs": [
    {
     "data": {
      "text/plain": [
       "['주님,',\n",
       " '대림시기를',\n",
       " '맞는',\n",
       " '교회가',\n",
       " '회개와',\n",
       " '화해의',\n",
       " '생활을',\n",
       " '하며',\n",
       " '저희에게',\n",
       " '오실',\n",
       " '아기',\n",
       " '예수님을',\n",
       " '기쁜',\n",
       " '마음으로',\n",
       " '맞이할',\n",
       " '수',\n",
       " '있도록',\n",
       " '도와주소서.']"
      ]
     },
     "execution_count": 11,
     "metadata": {},
     "output_type": "execute_result"
    }
   ],
   "source": [
    "X[0]"
   ]
  },
  {
   "cell_type": "markdown",
   "metadata": {},
   "source": [
    " "
   ]
  },
  {
   "cell_type": "markdown",
   "metadata": {},
   "source": [
    "## 고유 토큰 인덱싱"
   ]
  },
  {
   "cell_type": "code",
   "execution_count": 12,
   "metadata": {},
   "outputs": [],
   "source": [
    "from collections import defaultdict"
   ]
  },
  {
   "cell_type": "code",
   "execution_count": 13,
   "metadata": {},
   "outputs": [],
   "source": [
    "# 단어마다 고유한 인덱스를 부여하기 위한 dictionary\n",
    "token_to_index = defaultdict(lambda : len(token_to_index))"
   ]
  },
  {
   "cell_type": "code",
   "execution_count": 14,
   "metadata": {},
   "outputs": [],
   "source": [
    "# 단어에 대한 고유 인덱스를 부여하는 함수\n",
    "def convert_token_to_idx(token_ls):\n",
    "    for tokens in token_ls:\n",
    "        yield [token_to_index[token] for token in tokens]\n",
    "    return"
   ]
  },
  {
   "cell_type": "code",
   "execution_count": 15,
   "metadata": {},
   "outputs": [],
   "source": [
    "X = list(convert_token_to_idx(X))"
   ]
  },
  {
   "cell_type": "code",
   "execution_count": 16,
   "metadata": {},
   "outputs": [],
   "source": [
    "# 고유 인덱스로 변환될 경우, 원래 어떤 단어였는지 알기 어려우므로,\n",
    "# 인덱스로 변환된 단어를 본래의 단어로 재변환하기 위한 dictionary 생성\n",
    "index_to_token = {val : key for key,val in token_to_index.items()}"
   ]
  },
  {
   "cell_type": "markdown",
   "metadata": {},
   "source": [
    " "
   ]
  },
  {
   "cell_type": "markdown",
   "metadata": {},
   "source": [
    "#### 인덱싱 결과 확인 "
   ]
  },
  {
   "cell_type": "code",
   "execution_count": 17,
   "metadata": {},
   "outputs": [],
   "source": [
    "import operator"
   ]
  },
  {
   "cell_type": "code",
   "execution_count": 18,
   "metadata": {},
   "outputs": [
    {
     "name": "stdout",
     "output_type": "stream",
     "text": [
      "주님, 0\n",
      "대림시기를 1\n",
      "맞는 2\n",
      "교회가 3\n",
      "회개와 4\n"
     ]
    }
   ],
   "source": [
    "for k,v in sorted(token_to_index.items(), key=operator.itemgetter(1))[:5]:\n",
    "    print (k,v)"
   ]
  },
  {
   "cell_type": "code",
   "execution_count": 19,
   "metadata": {},
   "outputs": [
    {
     "data": {
      "text/plain": [
       "[0, 1, 2, 3, 4, 5, 6, 7, 8, 9, 10, 11, 12, 13, 14, 15, 16, 17]"
      ]
     },
     "execution_count": 19,
     "metadata": {},
     "output_type": "execute_result"
    }
   ],
   "source": [
    "X[0]"
   ]
  },
  {
   "cell_type": "markdown",
   "metadata": {},
   "source": [
    " "
   ]
  },
  {
   "cell_type": "markdown",
   "metadata": {},
   "source": [
    "### 빈(empty) 단어 가방(Bag of Words) 생성"
   ]
  },
  {
   "cell_type": "code",
   "execution_count": 20,
   "metadata": {},
   "outputs": [],
   "source": [
    "n_train_reviews = len(X)       # 학습용 리뷰의 총 수\n",
    "n_unique_word = len(token_to_index)  # 고유 단어의 갯수 (BOW의 차원의 크기) "
   ]
  },
  {
   "cell_type": "code",
   "execution_count": 21,
   "metadata": {},
   "outputs": [
    {
     "data": {
      "text/plain": [
       "3329"
      ]
     },
     "execution_count": 21,
     "metadata": {},
     "output_type": "execute_result"
    }
   ],
   "source": [
    "n_unique_word"
   ]
  },
  {
   "cell_type": "markdown",
   "metadata": {},
   "source": [
    " "
   ]
  },
  {
   "cell_type": "markdown",
   "metadata": {},
   "source": [
    "### numpy를 사용하면 memory error 발생 "
   ]
  },
  {
   "cell_type": "code",
   "execution_count": 22,
   "metadata": {},
   "outputs": [],
   "source": [
    "import numpy as np"
   ]
  },
  {
   "cell_type": "code",
   "execution_count": 23,
   "metadata": {},
   "outputs": [],
   "source": [
    "bow = np.zeros((n_train_reviews, n_unique_word), dtype=np.float32)"
   ]
  },
  {
   "cell_type": "markdown",
   "metadata": {},
   "source": [
    " "
   ]
  },
  {
   "cell_type": "markdown",
   "metadata": {},
   "source": [
    "### Scipy 패키지 활용"
   ]
  },
  {
   "cell_type": "code",
   "execution_count": 24,
   "metadata": {},
   "outputs": [],
   "source": [
    "# import scipy.sparse as sps"
   ]
  },
  {
   "cell_type": "code",
   "execution_count": 25,
   "metadata": {},
   "outputs": [],
   "source": [
    "# 학습용 리뷰 수(150,000) x 고유 단어의 수(450,541)의 크기를 갖는 빈 단어가방 생성\n",
    "# bow_data = sps.lil_matrix((n_train_reviews, n_unique_word), dtype=np.int8)"
   ]
  },
  {
   "cell_type": "markdown",
   "metadata": {},
   "source": [
    " "
   ]
  },
  {
   "cell_type": "markdown",
   "metadata": {},
   "source": [
    "### 단어 가방 채우기"
   ]
  },
  {
   "cell_type": "code",
   "execution_count": 26,
   "metadata": {},
   "outputs": [],
   "source": [
    "for i, tokens in enumerate(X):\n",
    "    for token in tokens:\n",
    "        # i번 째 리뷰에 등장한 단어들을 세서, 고유 번호에 1씩 더해준다.\n",
    "        bow[i, token] += 1.0"
   ]
  },
  {
   "cell_type": "markdown",
   "metadata": {},
   "source": [
    " "
   ]
  },
  {
   "cell_type": "markdown",
   "metadata": {},
   "source": [
    "### Train / test split"
   ]
  },
  {
   "cell_type": "code",
   "execution_count": 27,
   "metadata": {},
   "outputs": [
    {
     "name": "stdout",
     "output_type": "stream",
     "text": [
      "(619, 3329) (155, 3329) (619,) (155,)\n",
      "[3 2 3 1 0]\n"
     ]
    }
   ],
   "source": [
    "bow_train, bow_test, y_train, y_test = train_test_split(bow, y, test_size=0.2, random_state=1212)\n",
    "print(bow_train.shape, bow_test.shape, y_train.shape, y_test.shape)\n",
    "print(y_train[:5])"
   ]
  },
  {
   "cell_type": "markdown",
   "metadata": {},
   "source": [
    "## Logistic Regression"
   ]
  },
  {
   "cell_type": "code",
   "execution_count": 28,
   "metadata": {},
   "outputs": [],
   "source": [
    "from sklearn.linear_model import LogisticRegression"
   ]
  },
  {
   "cell_type": "code",
   "execution_count": 29,
   "metadata": {},
   "outputs": [],
   "source": [
    "model = LogisticRegression(multi_class='multinomial', solver='lbfgs')"
   ]
  },
  {
   "cell_type": "markdown",
   "metadata": {},
   "source": [
    "### Train"
   ]
  },
  {
   "cell_type": "code",
   "execution_count": 30,
   "metadata": {},
   "outputs": [
    {
     "data": {
      "text/plain": [
       "LogisticRegression(C=1.0, class_weight=None, dual=False, fit_intercept=True,\n",
       "          intercept_scaling=1, max_iter=100, multi_class='multinomial',\n",
       "          n_jobs=1, penalty='l2', random_state=None, solver='lbfgs',\n",
       "          tol=0.0001, verbose=0, warm_start=False)"
      ]
     },
     "execution_count": 30,
     "metadata": {},
     "output_type": "execute_result"
    }
   ],
   "source": [
    "model.fit(bow_train, y_train)"
   ]
  },
  {
   "cell_type": "markdown",
   "metadata": {},
   "source": [
    " "
   ]
  },
  {
   "cell_type": "markdown",
   "metadata": {},
   "source": [
    "### Test"
   ]
  },
  {
   "cell_type": "code",
   "execution_count": 31,
   "metadata": {},
   "outputs": [],
   "source": [
    "from sklearn.metrics import classification_report\n",
    "from sklearn.metrics import accuracy_score"
   ]
  },
  {
   "cell_type": "code",
   "execution_count": 32,
   "metadata": {},
   "outputs": [],
   "source": [
    "predict = model.predict(bow_test)\n",
    "accuracy = accuracy_score(y_test, predict)"
   ]
  },
  {
   "cell_type": "code",
   "execution_count": 33,
   "metadata": {},
   "outputs": [
    {
     "name": "stdout",
     "output_type": "stream",
     "text": [
      "Accuracy :  0.7870967741935484\n",
      "             precision    recall  f1-score   support\n",
      "\n",
      "          0       0.86      0.95      0.90        38\n",
      "          1       0.84      0.76      0.80        42\n",
      "          2       0.81      0.71      0.75        41\n",
      "          3       0.64      0.74      0.68        34\n",
      "\n",
      "avg / total       0.79      0.79      0.79       155\n",
      "\n"
     ]
    }
   ],
   "source": [
    "print('Accuracy : ',accuracy)\n",
    "print(classification_report(y_test, predict))"
   ]
  },
  {
   "cell_type": "markdown",
   "metadata": {},
   "source": [
    "## Pytorch"
   ]
  },
  {
   "cell_type": "code",
   "execution_count": 34,
   "metadata": {},
   "outputs": [],
   "source": [
    "import torch"
   ]
  },
  {
   "cell_type": "code",
   "execution_count": 247,
   "metadata": {},
   "outputs": [
    {
     "name": "stderr",
     "output_type": "stream",
     "text": [
      "C:\\Users\\kmc55\\Anaconda3\\lib\\site-packages\\ipykernel_launcher.py:3: UserWarning: To copy construct from a tensor, it is recommended to use sourceTensor.clone().detach() or sourceTensor.clone().detach().requires_grad_(True), rather than torch.tensor(sourceTensor).\n",
      "  This is separate from the ipykernel package so we can avoid doing imports until\n"
     ]
    }
   ],
   "source": [
    "# dataset : bow_train, bow_test, y_train, y_test\n",
    "bow_train, y_train, bow_test, y_test = map(\n",
    "    torch.tensor, (bow_train, y_train, bow_test, y_test)\n",
    ")"
   ]
  },
  {
   "cell_type": "code",
   "execution_count": 248,
   "metadata": {},
   "outputs": [
    {
     "name": "stdout",
     "output_type": "stream",
     "text": [
      "torch.Size([619, 3329])\n"
     ]
    }
   ],
   "source": [
    "n, c = bow_train.shape\n",
    "print(bow_train.shape)"
   ]
  },
  {
   "cell_type": "code",
   "execution_count": 249,
   "metadata": {},
   "outputs": [
    {
     "name": "stdout",
     "output_type": "stream",
     "text": [
      "tensor(0) tensor(3)\n",
      "tensor(0) tensor(3)\n"
     ]
    }
   ],
   "source": [
    "print(y_train.min(), y_train.max())\n",
    "print(y_test.min(), y_test.max())"
   ]
  },
  {
   "cell_type": "code",
   "execution_count": 250,
   "metadata": {},
   "outputs": [
    {
     "name": "stdout",
     "output_type": "stream",
     "text": [
      "tensor([[1., 0., 0.,  ..., 0., 0., 0.],\n",
      "        [1., 0., 0.,  ..., 0., 0., 0.],\n",
      "        [1., 1., 0.,  ..., 0., 0., 0.],\n",
      "        [1., 0., 0.,  ..., 0., 0., 0.],\n",
      "        [1., 0., 0.,  ..., 0., 0., 0.]])\n",
      "tensor([3, 2, 3, 1, 0])\n"
     ]
    }
   ],
   "source": [
    "bs = 64  # batch size\n",
    "\n",
    "xb = bow_train[0:bs]  # a mini-batch from x\n",
    "yb = y_train[0:bs]\n",
    "xv = bow_test[0:bs]\n",
    "yv = y_test[0:bs]\n",
    "\n",
    "print(xb[:5])\n",
    "print(yb[:5])\n"
   ]
  },
  {
   "cell_type": "markdown",
   "metadata": {},
   "source": [
    "### Logistic regression with equations"
   ]
  },
  {
   "cell_type": "code",
   "execution_count": 251,
   "metadata": {},
   "outputs": [
    {
     "name": "stdout",
     "output_type": "stream",
     "text": [
      "tensor(1.3676, grad_fn=<NegBackward>) tensor(0.3750)\n",
      "tensor(1.3780, grad_fn=<NegBackward>) tensor(0.3594)\n"
     ]
    }
   ],
   "source": [
    "import math\n",
    "\n",
    "weights = torch.randn(3329, 4) / math.sqrt(3329)\n",
    "weights.requires_grad_()\n",
    "bias = torch.zeros(4, requires_grad=True)\n",
    "\n",
    "def log_softmax(x):\n",
    "    return x - x.exp().sum(-1).log().unsqueeze(-1)\n",
    "\n",
    "def model(xb):\n",
    "    return log_softmax(xb @ weights + bias)\n",
    "\n",
    "def nll(pred, gt):\n",
    "    return -pred[range(gt.shape[0]), gt].mean()\n",
    "\n",
    "loss_func = nll\n",
    "\n",
    "def accuracy(out, y):\n",
    "    preds = torch.argmax(out, dim=1)\n",
    "    return (preds == y).float().mean()\n",
    "\n",
    "print(loss_func(model(xb), yb), accuracy(model(xb), yb))\n",
    "print(loss_func(model(xv), yv), accuracy(model(xv), yv))\n"
   ]
  },
  {
   "cell_type": "code",
   "execution_count": 252,
   "metadata": {
    "scrolled": true
   },
   "outputs": [
    {
     "name": "stdout",
     "output_type": "stream",
     "text": [
      "Epoch: 0 tensor(1.0614, grad_fn=<NegBackward>) tensor(0.8605) tensor(1.1742, grad_fn=<NegBackward>) tensor(0.6094)\n",
      "Epoch: 1 tensor(0.9005, grad_fn=<NegBackward>) tensor(0.8837) tensor(1.0259, grad_fn=<NegBackward>) tensor(0.7344)\n",
      "Epoch: 2 tensor(0.7864, grad_fn=<NegBackward>) tensor(0.9070) tensor(0.9295, grad_fn=<NegBackward>) tensor(0.7500)\n",
      "Epoch: 3 tensor(0.6993, grad_fn=<NegBackward>) tensor(0.9070) tensor(0.8620, grad_fn=<NegBackward>) tensor(0.7812)\n",
      "Epoch: 4 tensor(0.6296, grad_fn=<NegBackward>) tensor(0.9302) tensor(0.8122, grad_fn=<NegBackward>) tensor(0.7969)\n",
      "Epoch: 5 tensor(0.5722, grad_fn=<NegBackward>) tensor(0.9302) tensor(0.7739, grad_fn=<NegBackward>) tensor(0.8125)\n",
      "Epoch: 6 tensor(0.5239, grad_fn=<NegBackward>) tensor(0.9302) tensor(0.7438, grad_fn=<NegBackward>) tensor(0.8125)\n",
      "Epoch: 7 tensor(0.4825, grad_fn=<NegBackward>) tensor(0.9302) tensor(0.7194, grad_fn=<NegBackward>) tensor(0.8125)\n",
      "Epoch: 8 tensor(0.4467, grad_fn=<NegBackward>) tensor(0.9302) tensor(0.6994, grad_fn=<NegBackward>) tensor(0.8125)\n",
      "Epoch: 9 tensor(0.4154, grad_fn=<NegBackward>) tensor(0.9767) tensor(0.6827, grad_fn=<NegBackward>) tensor(0.8125)\n",
      "Epoch: 10 tensor(0.3878, grad_fn=<NegBackward>) tensor(0.9767) tensor(0.6686, grad_fn=<NegBackward>) tensor(0.7969)\n",
      "Epoch: 11 tensor(0.3633, grad_fn=<NegBackward>) tensor(0.9767) tensor(0.6565, grad_fn=<NegBackward>) tensor(0.8125)\n",
      "Epoch: 12 tensor(0.3414, grad_fn=<NegBackward>) tensor(0.9767) tensor(0.6461, grad_fn=<NegBackward>) tensor(0.8125)\n",
      "Epoch: 13 tensor(0.3218, grad_fn=<NegBackward>) tensor(0.9767) tensor(0.6371, grad_fn=<NegBackward>) tensor(0.8125)\n",
      "Epoch: 14 tensor(0.3041, grad_fn=<NegBackward>) tensor(0.9767) tensor(0.6292, grad_fn=<NegBackward>) tensor(0.8125)\n",
      "Epoch: 15 tensor(0.2880, grad_fn=<NegBackward>) tensor(0.9767) tensor(0.6223, grad_fn=<NegBackward>) tensor(0.8125)\n",
      "Epoch: 16 tensor(0.2734, grad_fn=<NegBackward>) tensor(0.9767) tensor(0.6161, grad_fn=<NegBackward>) tensor(0.8125)\n",
      "Epoch: 17 tensor(0.2601, grad_fn=<NegBackward>) tensor(0.9767) tensor(0.6106, grad_fn=<NegBackward>) tensor(0.8125)\n",
      "Epoch: 18 tensor(0.2478, grad_fn=<NegBackward>) tensor(0.9767) tensor(0.6056, grad_fn=<NegBackward>) tensor(0.8125)\n",
      "Epoch: 19 tensor(0.2366, grad_fn=<NegBackward>) tensor(0.9767) tensor(0.6011, grad_fn=<NegBackward>) tensor(0.8125)\n",
      "Epoch: 20 tensor(0.2263, grad_fn=<NegBackward>) tensor(1.) tensor(0.5971, grad_fn=<NegBackward>) tensor(0.7969)\n",
      "Epoch: 21 tensor(0.2167, grad_fn=<NegBackward>) tensor(1.) tensor(0.5934, grad_fn=<NegBackward>) tensor(0.7969)\n",
      "Epoch: 22 tensor(0.2078, grad_fn=<NegBackward>) tensor(1.) tensor(0.5901, grad_fn=<NegBackward>) tensor(0.7969)\n",
      "Epoch: 23 tensor(0.1996, grad_fn=<NegBackward>) tensor(1.) tensor(0.5870, grad_fn=<NegBackward>) tensor(0.7969)\n",
      "Epoch: 24 tensor(0.1919, grad_fn=<NegBackward>) tensor(1.) tensor(0.5842, grad_fn=<NegBackward>) tensor(0.7969)\n",
      "Epoch: 25 tensor(0.1848, grad_fn=<NegBackward>) tensor(1.) tensor(0.5816, grad_fn=<NegBackward>) tensor(0.7969)\n",
      "Epoch: 26 tensor(0.1781, grad_fn=<NegBackward>) tensor(1.) tensor(0.5792, grad_fn=<NegBackward>) tensor(0.7969)\n",
      "Epoch: 27 tensor(0.1719, grad_fn=<NegBackward>) tensor(1.) tensor(0.5770, grad_fn=<NegBackward>) tensor(0.7969)\n",
      "Epoch: 28 tensor(0.1660, grad_fn=<NegBackward>) tensor(1.) tensor(0.5749, grad_fn=<NegBackward>) tensor(0.7969)\n",
      "Epoch: 29 tensor(0.1605, grad_fn=<NegBackward>) tensor(1.) tensor(0.5730, grad_fn=<NegBackward>) tensor(0.7969)\n"
     ]
    }
   ],
   "source": [
    "from IPython.core.debugger import set_trace\n",
    "\n",
    "lr = 0.5  # learning rate\n",
    "epochs = 30  # how many epochs to train for\n",
    "\n",
    "for epoch in range(epochs):\n",
    "    for i in range((n - 1) // bs + 1):\n",
    "        \n",
    "        start_i = i * bs\n",
    "        end_i = start_i + bs\n",
    "        xb = bow_train[start_i:end_i]\n",
    "        yb = y_train[start_i:end_i]\n",
    "        \n",
    "        ## Feed foward\n",
    "        pred = model(xb)\n",
    "        loss = loss_func(pred, yb)\n",
    "        \n",
    "        ## Backpropagation\n",
    "        loss.backward()\n",
    "        \n",
    "        with torch.no_grad():\n",
    "            weights -= weights.grad * lr\n",
    "            bias -= bias.grad * lr\n",
    "            weights.grad.zero_()\n",
    "            bias.grad.zero_()\n",
    "    \n",
    "    print(\"Epoch:\", epoch, loss_func(model(xb), yb), accuracy(model(xb), yb), loss_func(model(xv), yv), accuracy(model(xv), yv))"
   ]
  },
  {
   "cell_type": "code",
   "execution_count": 253,
   "metadata": {},
   "outputs": [
    {
     "data": {
      "text/plain": [
       "tensor([[1., 0., 0.,  ..., 0., 0., 0.],\n",
       "        [1., 0., 0.,  ..., 0., 0., 0.],\n",
       "        [1., 0., 0.,  ..., 0., 0., 0.],\n",
       "        ...,\n",
       "        [1., 0., 0.,  ..., 0., 0., 0.],\n",
       "        [1., 0., 0.,  ..., 0., 0., 0.],\n",
       "        [1., 0., 0.,  ..., 0., 0., 0.]])"
      ]
     },
     "execution_count": 253,
     "metadata": {},
     "output_type": "execute_result"
    }
   ],
   "source": [
    "xb"
   ]
  },
  {
   "cell_type": "code",
   "execution_count": 254,
   "metadata": {},
   "outputs": [
    {
     "data": {
      "text/plain": [
       "tensor([1, 2, 1, 1, 0, 3, 3, 3, 0, 3, 0, 3, 1, 3, 2, 1, 0, 3, 1, 0, 3, 0, 1, 3,\n",
       "        3, 2, 3, 3, 0, 1, 3, 1, 0, 3, 0, 0, 1, 1, 3, 1, 1, 1, 0])"
      ]
     },
     "execution_count": 254,
     "metadata": {},
     "output_type": "execute_result"
    }
   ],
   "source": [
    "yb"
   ]
  },
  {
   "cell_type": "code",
   "execution_count": null,
   "metadata": {},
   "outputs": [],
   "source": [
    "## What is nn.Module?"
   ]
  },
  {
   "cell_type": "code",
   "execution_count": 255,
   "metadata": {},
   "outputs": [
    {
     "name": "stdout",
     "output_type": "stream",
     "text": [
      "Parameter containing:\n",
      "tensor([[-0.0163, -0.0103,  0.0177, -0.0262],\n",
      "        [ 0.0062, -0.0261, -0.0375, -0.0041],\n",
      "        [ 0.0022, -0.0186, -0.0019, -0.0214],\n",
      "        ...,\n",
      "        [-0.0173,  0.0015,  0.0010, -0.0011],\n",
      "        [ 0.0071, -0.0025, -0.0118, -0.0003],\n",
      "        [-0.0040, -0.0079, -0.0158, -0.0233]], requires_grad=True)\n",
      "Parameter containing:\n",
      "tensor([0., 0., 0., 0.], requires_grad=True)\n",
      "tensor(1.3852) tensor(0.2326)\n"
     ]
    }
   ],
   "source": [
    "## Same model with nn.Module\n",
    "\n",
    "class Logistic_Regression(nn.Module):\n",
    "    def __init__(self):\n",
    "        super().__init__()\n",
    "        self.weights = nn.Parameter(torch.randn(3329, 4) / math.sqrt(3329))\n",
    "        self.bias = nn.Parameter(torch.zeros(4))\n",
    "\n",
    "    def forward(self, xb):\n",
    "        return log_softmax(xb @ self.weights + self.bias)\n",
    "\n",
    "model = Logistic_Regression()\n",
    "loss_func = nll\n",
    "\n",
    "with torch.no_grad(): # To see model's paramter without calculating gradient\n",
    "    for p in model.parameters(): \n",
    "        print(p)\n",
    "    print(loss_func(model(xb), yb), accuracy(model(xb), yb))"
   ]
  },
  {
   "cell_type": "code",
   "execution_count": 256,
   "metadata": {
    "scrolled": true
   },
   "outputs": [
    {
     "name": "stdout",
     "output_type": "stream",
     "text": [
      "Epochs: 0 tensor(1.0650, grad_fn=<NegBackward>) tensor(0.8372) tensor(1.1886, grad_fn=<NegBackward>) tensor(0.6406)\n",
      "Epochs: 1 tensor(0.9023, grad_fn=<NegBackward>) tensor(0.8605) tensor(1.0381, grad_fn=<NegBackward>) tensor(0.7188)\n",
      "Epochs: 2 tensor(0.7873, grad_fn=<NegBackward>) tensor(0.9070) tensor(0.9403, grad_fn=<NegBackward>) tensor(0.7500)\n",
      "Epochs: 3 tensor(0.6998, grad_fn=<NegBackward>) tensor(0.9070) tensor(0.8719, grad_fn=<NegBackward>) tensor(0.7656)\n",
      "Epochs: 4 tensor(0.6298, grad_fn=<NegBackward>) tensor(0.9070) tensor(0.8213, grad_fn=<NegBackward>) tensor(0.7656)\n",
      "Epochs: 5 tensor(0.5721, grad_fn=<NegBackward>) tensor(0.9302) tensor(0.7825, grad_fn=<NegBackward>) tensor(0.7969)\n",
      "Epochs: 6 tensor(0.5236, grad_fn=<NegBackward>) tensor(0.9302) tensor(0.7519, grad_fn=<NegBackward>) tensor(0.8125)\n",
      "Epochs: 7 tensor(0.4821, grad_fn=<NegBackward>) tensor(0.9302) tensor(0.7271, grad_fn=<NegBackward>) tensor(0.8125)\n",
      "Epochs: 8 tensor(0.4461, grad_fn=<NegBackward>) tensor(0.9535) tensor(0.7068, grad_fn=<NegBackward>) tensor(0.8125)\n",
      "Epochs: 9 tensor(0.4147, grad_fn=<NegBackward>) tensor(0.9767) tensor(0.6898, grad_fn=<NegBackward>) tensor(0.8125)\n",
      "Epochs: 10 tensor(0.3870, grad_fn=<NegBackward>) tensor(0.9767) tensor(0.6754, grad_fn=<NegBackward>) tensor(0.8125)\n",
      "Epochs: 11 tensor(0.3624, grad_fn=<NegBackward>) tensor(0.9767) tensor(0.6632, grad_fn=<NegBackward>) tensor(0.8125)\n",
      "Epochs: 12 tensor(0.3405, grad_fn=<NegBackward>) tensor(0.9767) tensor(0.6526, grad_fn=<NegBackward>) tensor(0.8125)\n",
      "Epochs: 13 tensor(0.3208, grad_fn=<NegBackward>) tensor(0.9767) tensor(0.6434, grad_fn=<NegBackward>) tensor(0.8125)\n",
      "Epochs: 14 tensor(0.3031, grad_fn=<NegBackward>) tensor(0.9767) tensor(0.6353, grad_fn=<NegBackward>) tensor(0.8125)\n",
      "Epochs: 15 tensor(0.2870, grad_fn=<NegBackward>) tensor(0.9767) tensor(0.6282, grad_fn=<NegBackward>) tensor(0.8125)\n",
      "Epochs: 16 tensor(0.2725, grad_fn=<NegBackward>) tensor(0.9767) tensor(0.6219, grad_fn=<NegBackward>) tensor(0.8125)\n",
      "Epochs: 17 tensor(0.2591, grad_fn=<NegBackward>) tensor(0.9767) tensor(0.6163, grad_fn=<NegBackward>) tensor(0.8125)\n",
      "Epochs: 18 tensor(0.2469, grad_fn=<NegBackward>) tensor(0.9767) tensor(0.6112, grad_fn=<NegBackward>) tensor(0.8125)\n",
      "Epochs: 19 tensor(0.2357, grad_fn=<NegBackward>) tensor(0.9767) tensor(0.6066, grad_fn=<NegBackward>) tensor(0.8125)\n",
      "Epochs: 20 tensor(0.2254, grad_fn=<NegBackward>) tensor(1.) tensor(0.6025, grad_fn=<NegBackward>) tensor(0.8125)\n",
      "Epochs: 21 tensor(0.2159, grad_fn=<NegBackward>) tensor(1.) tensor(0.5988, grad_fn=<NegBackward>) tensor(0.8125)\n",
      "Epochs: 22 tensor(0.2071, grad_fn=<NegBackward>) tensor(1.) tensor(0.5953, grad_fn=<NegBackward>) tensor(0.8125)\n",
      "Epochs: 23 tensor(0.1989, grad_fn=<NegBackward>) tensor(1.) tensor(0.5922, grad_fn=<NegBackward>) tensor(0.8125)\n",
      "Epochs: 24 tensor(0.1912, grad_fn=<NegBackward>) tensor(1.) tensor(0.5893, grad_fn=<NegBackward>) tensor(0.8125)\n",
      "Epochs: 25 tensor(0.1841, grad_fn=<NegBackward>) tensor(1.) tensor(0.5867, grad_fn=<NegBackward>) tensor(0.8125)\n",
      "Epochs: 26 tensor(0.1775, grad_fn=<NegBackward>) tensor(1.) tensor(0.5842, grad_fn=<NegBackward>) tensor(0.8125)\n",
      "Epochs: 27 tensor(0.1713, grad_fn=<NegBackward>) tensor(1.) tensor(0.5820, grad_fn=<NegBackward>) tensor(0.8125)\n",
      "Epochs: 28 tensor(0.1655, grad_fn=<NegBackward>) tensor(1.) tensor(0.5799, grad_fn=<NegBackward>) tensor(0.8125)\n",
      "Epochs: 29 tensor(0.1600, grad_fn=<NegBackward>) tensor(1.) tensor(0.5779, grad_fn=<NegBackward>) tensor(0.8125)\n"
     ]
    }
   ],
   "source": [
    "def fit():\n",
    "    for epoch in range(epochs):\n",
    "        n_batches = (n - 1) // bs + 1\n",
    "        for i in range(n_batches):\n",
    "            start_i = i * bs\n",
    "            end_i = start_i + bs\n",
    "            \n",
    "            xb = bow_train[start_i:end_i]\n",
    "            yb = y_train[start_i:end_i]\n",
    "            \n",
    "            pred = model(xb)\n",
    "            loss = loss_func(pred, yb)\n",
    "            \n",
    "            #back propagation\n",
    "            loss.backward()\n",
    "            \n",
    "            with torch.no_grad():\n",
    "                for p in model.parameters():\n",
    "                     p -= p.grad * lr\n",
    "                model.zero_grad()\n",
    "        \n",
    "        print(\"Epochs:\", epoch, loss_func(model(xb), yb), accuracy(model(xb), yb), loss_func(model(xv), yv), accuracy(model(xv), yv))\n",
    "\n",
    "fit()"
   ]
  },
  {
   "cell_type": "code",
   "execution_count": 257,
   "metadata": {
    "scrolled": true
   },
   "outputs": [
    {
     "name": "stdout",
     "output_type": "stream",
     "text": [
      "Parameter containing:\n",
      "tensor([[-0.0136,  0.0033, -0.0045, -0.0145],\n",
      "        [ 0.0066, -0.0241, -0.0112, -0.0176],\n",
      "        [-0.0022,  0.0023,  0.0227, -0.0128],\n",
      "        ...,\n",
      "        [ 0.0188,  0.0084, -0.0171,  0.0166],\n",
      "        [ 0.0084,  0.0025,  0.0102,  0.0377],\n",
      "        [-0.0081, -0.0183, -0.0146,  0.0111]], requires_grad=True)\n",
      "Parameter containing:\n",
      "tensor([0., 0., 0., 0.], requires_grad=True)\n",
      "tensor(1.3891) tensor(0.2326)\n"
     ]
    }
   ],
   "source": [
    "from torch import nn\n",
    "import torch.nn.functional as F\n",
    "\n",
    "loss_func = F.cross_entropy\n",
    "\n",
    "class Logistic_Regression(nn.Module):\n",
    "    def __init__(self):\n",
    "        super().__init__()\n",
    "        self.weights = nn.Parameter(torch.randn(3329, 4) / math.sqrt(3329))\n",
    "        self.bias = nn.Parameter(torch.zeros(4))\n",
    "\n",
    "    def forward(self, xb):\n",
    "        return xb @ self.weights + self.bias\n",
    "\n",
    "model = Logistic_Regression()\n",
    "\n",
    "with torch.no_grad(): # To see model's paramter without calculating gradient\n",
    "    for p in model.parameters(): \n",
    "        print(p)\n",
    "    print(loss_func(model(xb), yb), accuracy(model(xb), yb))"
   ]
  },
  {
   "cell_type": "code",
   "execution_count": 258,
   "metadata": {},
   "outputs": [],
   "source": [
    "loss = loss_func(model(xb), yb)\n",
    "loss.backward()"
   ]
  },
  {
   "cell_type": "code",
   "execution_count": 259,
   "metadata": {
    "scrolled": true
   },
   "outputs": [
    {
     "data": {
      "text/plain": [
       "<function torch.nn.functional.cross_entropy>"
      ]
     },
     "execution_count": 259,
     "metadata": {},
     "output_type": "execute_result"
    }
   ],
   "source": [
    "loss_func"
   ]
  },
  {
   "cell_type": "code",
   "execution_count": 260,
   "metadata": {},
   "outputs": [
    {
     "name": "stdout",
     "output_type": "stream",
     "text": [
      "Parameter containing:\n",
      "tensor([[-0.0136,  0.0033, -0.0045, -0.0145],\n",
      "        [ 0.0066, -0.0241, -0.0112, -0.0176],\n",
      "        [-0.0022,  0.0023,  0.0227, -0.0128],\n",
      "        ...,\n",
      "        [ 0.0188,  0.0084, -0.0171,  0.0166],\n",
      "        [ 0.0084,  0.0025,  0.0102,  0.0377],\n",
      "        [-0.0081, -0.0183, -0.0146,  0.0111]], requires_grad=True)\n",
      "Parameter containing:\n",
      "tensor([0., 0., 0., 0.], requires_grad=True)\n",
      "tensor(1.3891) tensor(0.2326)\n"
     ]
    }
   ],
   "source": [
    "with torch.no_grad(): # To see model's paramter without calculating gradient\n",
    "    for p in model.parameters(): \n",
    "        print(p)\n",
    "    model.zero_grad()\n",
    "    print(loss_func(model(xb), yb), accuracy(model(xb), yb))"
   ]
  },
  {
   "cell_type": "code",
   "execution_count": 261,
   "metadata": {
    "scrolled": true
   },
   "outputs": [
    {
     "name": "stdout",
     "output_type": "stream",
     "text": [
      "Epochs: 0 tensor(1.0731, grad_fn=<NllLossBackward>) tensor(0.8140) tensor(1.1815, grad_fn=<NllLossBackward>) tensor(0.6406)\n",
      "Epochs: 1 tensor(0.9092, grad_fn=<NllLossBackward>) tensor(0.8605) tensor(1.0351, grad_fn=<NllLossBackward>) tensor(0.6875)\n",
      "Epochs: 2 tensor(0.7933, grad_fn=<NllLossBackward>) tensor(0.8837) tensor(0.9396, grad_fn=<NllLossBackward>) tensor(0.7344)\n",
      "Epochs: 3 tensor(0.7050, grad_fn=<NllLossBackward>) tensor(0.9070) tensor(0.8725, grad_fn=<NllLossBackward>) tensor(0.7500)\n",
      "Epochs: 4 tensor(0.6344, grad_fn=<NllLossBackward>) tensor(0.9070) tensor(0.8228, grad_fn=<NllLossBackward>) tensor(0.7812)\n",
      "Epochs: 5 tensor(0.5763, grad_fn=<NllLossBackward>) tensor(0.9302) tensor(0.7845, grad_fn=<NllLossBackward>) tensor(0.7812)\n",
      "Epochs: 6 tensor(0.5274, grad_fn=<NllLossBackward>) tensor(0.9302) tensor(0.7542, grad_fn=<NllLossBackward>) tensor(0.7969)\n",
      "Epochs: 7 tensor(0.4855, grad_fn=<NllLossBackward>) tensor(0.9302) tensor(0.7298, grad_fn=<NllLossBackward>) tensor(0.7969)\n",
      "Epochs: 8 tensor(0.4493, grad_fn=<NllLossBackward>) tensor(0.9302) tensor(0.7096, grad_fn=<NllLossBackward>) tensor(0.7969)\n",
      "Epochs: 9 tensor(0.4177, grad_fn=<NllLossBackward>) tensor(0.9767) tensor(0.6927, grad_fn=<NllLossBackward>) tensor(0.7969)\n",
      "Epochs: 10 tensor(0.3898, grad_fn=<NllLossBackward>) tensor(0.9767) tensor(0.6785, grad_fn=<NllLossBackward>) tensor(0.7969)\n",
      "Epochs: 11 tensor(0.3651, grad_fn=<NllLossBackward>) tensor(0.9767) tensor(0.6663, grad_fn=<NllLossBackward>) tensor(0.7969)\n",
      "Epochs: 12 tensor(0.3430, grad_fn=<NllLossBackward>) tensor(0.9767) tensor(0.6558, grad_fn=<NllLossBackward>) tensor(0.7969)\n",
      "Epochs: 13 tensor(0.3232, grad_fn=<NllLossBackward>) tensor(0.9767) tensor(0.6467, grad_fn=<NllLossBackward>) tensor(0.7969)\n",
      "Epochs: 14 tensor(0.3053, grad_fn=<NllLossBackward>) tensor(0.9767) tensor(0.6387, grad_fn=<NllLossBackward>) tensor(0.7969)\n",
      "Epochs: 15 tensor(0.2891, grad_fn=<NllLossBackward>) tensor(0.9767) tensor(0.6316, grad_fn=<NllLossBackward>) tensor(0.7969)\n",
      "Epochs: 16 tensor(0.2744, grad_fn=<NllLossBackward>) tensor(0.9767) tensor(0.6253, grad_fn=<NllLossBackward>) tensor(0.7812)\n",
      "Epochs: 17 tensor(0.2610, grad_fn=<NllLossBackward>) tensor(0.9767) tensor(0.6197, grad_fn=<NllLossBackward>) tensor(0.7812)\n",
      "Epochs: 18 tensor(0.2487, grad_fn=<NllLossBackward>) tensor(0.9767) tensor(0.6147, grad_fn=<NllLossBackward>) tensor(0.7812)\n",
      "Epochs: 19 tensor(0.2373, grad_fn=<NllLossBackward>) tensor(0.9767) tensor(0.6101, grad_fn=<NllLossBackward>) tensor(0.7969)\n",
      "Epochs: 20 tensor(0.2269, grad_fn=<NllLossBackward>) tensor(1.) tensor(0.6060, grad_fn=<NllLossBackward>) tensor(0.7969)\n",
      "Epochs: 21 tensor(0.2173, grad_fn=<NllLossBackward>) tensor(1.) tensor(0.6023, grad_fn=<NllLossBackward>) tensor(0.7969)\n",
      "Epochs: 22 tensor(0.2084, grad_fn=<NllLossBackward>) tensor(1.) tensor(0.5989, grad_fn=<NllLossBackward>) tensor(0.7969)\n",
      "Epochs: 23 tensor(0.2001, grad_fn=<NllLossBackward>) tensor(1.) tensor(0.5958, grad_fn=<NllLossBackward>) tensor(0.8125)\n",
      "Epochs: 24 tensor(0.1924, grad_fn=<NllLossBackward>) tensor(1.) tensor(0.5929, grad_fn=<NllLossBackward>) tensor(0.8125)\n",
      "Epochs: 25 tensor(0.1853, grad_fn=<NllLossBackward>) tensor(1.) tensor(0.5903, grad_fn=<NllLossBackward>) tensor(0.8125)\n",
      "Epochs: 26 tensor(0.1786, grad_fn=<NllLossBackward>) tensor(1.) tensor(0.5878, grad_fn=<NllLossBackward>) tensor(0.7969)\n",
      "Epochs: 27 tensor(0.1723, grad_fn=<NllLossBackward>) tensor(1.) tensor(0.5856, grad_fn=<NllLossBackward>) tensor(0.7969)\n",
      "Epochs: 28 tensor(0.1664, grad_fn=<NllLossBackward>) tensor(1.) tensor(0.5835, grad_fn=<NllLossBackward>) tensor(0.7969)\n",
      "Epochs: 29 tensor(0.1609, grad_fn=<NllLossBackward>) tensor(1.) tensor(0.5815, grad_fn=<NllLossBackward>) tensor(0.7969)\n"
     ]
    }
   ],
   "source": [
    "fit()"
   ]
  },
  {
   "cell_type": "code",
   "execution_count": null,
   "metadata": {},
   "outputs": [],
   "source": []
  },
  {
   "cell_type": "code",
   "execution_count": null,
   "metadata": {},
   "outputs": [],
   "source": []
  }
 ],
 "metadata": {
  "kernelspec": {
   "display_name": "Python 3",
   "language": "python",
   "name": "python3"
  },
  "language_info": {
   "codemirror_mode": {
    "name": "ipython",
    "version": 3
   },
   "file_extension": ".py",
   "mimetype": "text/x-python",
   "name": "python",
   "nbconvert_exporter": "python",
   "pygments_lexer": "ipython3",
   "version": "3.6.4"
  }
 },
 "nbformat": 4,
 "nbformat_minor": 2
}

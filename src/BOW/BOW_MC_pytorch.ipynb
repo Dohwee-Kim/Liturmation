{
 "cells": [
  {
   "cell_type": "markdown",
   "metadata": {},
   "source": [
    "# Data는 김도휘 형제님과 김명찬 형제님이 만들어주신 보편지향 기도 데이터를 사용하였습니다. "
   ]
  },
  {
   "cell_type": "code",
   "execution_count": 4,
   "metadata": {},
   "outputs": [],
   "source": [
    "import pandas as pd\n",
    "from sklearn.model_selection import train_test_split\n",
    "\n",
    "## CSV 에서 기도문 읽어오기\n",
    "def read_data(path_to_file):\n",
    "    df = pd.read_csv(path_to_file, dtype=str)\n",
    "    return df\n",
    "\n",
    "df = read_data('../../data/pray456_v3.csv')"
   ]
  },
  {
   "cell_type": "code",
   "execution_count": 5,
   "metadata": {},
   "outputs": [],
   "source": [
    "df.to_csv('../../data/pray456_v3withid.csv')"
   ]
  },
  {
   "cell_type": "code",
   "execution_count": 6,
   "metadata": {},
   "outputs": [
    {
     "name": "stdout",
     "output_type": "stream",
     "text": [
      "774\n",
      "774\n"
     ]
    }
   ],
   "source": [
    "X = df['content']\n",
    "y = df['label']\n",
    "print(len(X))\n",
    "print(len(y))"
   ]
  },
  {
   "cell_type": "code",
   "execution_count": 7,
   "metadata": {},
   "outputs": [
    {
     "data": {
      "text/plain": [
       "'주님, 대림시기를 맞는 교회가 회개와 화해의 생활을 하며 저희에게  오실 아기 예수님을 기쁜 마음으로 맞이할 수 있도록 도와주소서.'"
      ]
     },
     "execution_count": 7,
     "metadata": {},
     "output_type": "execute_result"
    }
   ],
   "source": [
    "X[0]"
   ]
  },
  {
   "cell_type": "code",
   "execution_count": 8,
   "metadata": {},
   "outputs": [
    {
     "data": {
      "text/plain": [
       "(50,)"
      ]
     },
     "execution_count": 8,
     "metadata": {},
     "output_type": "execute_result"
    }
   ],
   "source": [
    "y_quiz = df['content'].sample(50)\n",
    "y_quiz.shape"
   ]
  },
  {
   "cell_type": "code",
   "execution_count": 9,
   "metadata": {},
   "outputs": [],
   "source": [
    "y_quiz.sort_index().to_csv('../../data/quiz_pray1_sample50.csv')"
   ]
  },
  {
   "cell_type": "markdown",
   "metadata": {},
   "source": [
    "## y data one_hot encoding"
   ]
  },
  {
   "cell_type": "code",
   "execution_count": 10,
   "metadata": {},
   "outputs": [
    {
     "name": "stdout",
     "output_type": "stream",
     "text": [
      "<class 'str'> 0    1\n",
      "1    2\n",
      "2    3\n",
      "3    4\n",
      "4    1\n",
      "Name: label, dtype: object\n",
      "[0 1 2 3 0]\n",
      "[0 1 2 3 0]\n"
     ]
    }
   ],
   "source": [
    "from numpy import array\n",
    "from numpy import argmax\n",
    "from sklearn.preprocessing import LabelEncoder\n",
    "from sklearn.preprocessing import OneHotEncoder\n",
    "\n",
    "print(type(y[0]), y[:5])\n",
    "\n",
    "# integer encode\n",
    "label_encoder = LabelEncoder()\n",
    "integer_encoded = label_encoder.fit_transform(y)\n",
    "print(integer_encoded[:5])\n",
    "\n",
    "# # one_hot encode\n",
    "# onehot_encoder = OneHotEncoder(sparse=False)\n",
    "# integer_encoded = integer_encoded.reshape(len(integer_encoded), )\n",
    "# onehot_encoded = onehot_encoder.fit_transform(integer_encoded)\n",
    "# print(onehot_encoded[:5])\n",
    "\n",
    "# setup y \n",
    "# y = onehot_encoded\n",
    "y= integer_encoded\n",
    "print(y[:5])"
   ]
  },
  {
   "cell_type": "markdown",
   "metadata": {},
   "source": [
    "## 띄어쓰기로 구분"
   ]
  },
  {
   "cell_type": "code",
   "execution_count": 11,
   "metadata": {},
   "outputs": [],
   "source": [
    "X = [x.split() for x in X]"
   ]
  },
  {
   "cell_type": "code",
   "execution_count": 12,
   "metadata": {},
   "outputs": [
    {
     "data": {
      "text/plain": [
       "['주님,',\n",
       " '대림시기를',\n",
       " '맞는',\n",
       " '교회가',\n",
       " '회개와',\n",
       " '화해의',\n",
       " '생활을',\n",
       " '하며',\n",
       " '저희에게',\n",
       " '오실',\n",
       " '아기',\n",
       " '예수님을',\n",
       " '기쁜',\n",
       " '마음으로',\n",
       " '맞이할',\n",
       " '수',\n",
       " '있도록',\n",
       " '도와주소서.']"
      ]
     },
     "execution_count": 12,
     "metadata": {},
     "output_type": "execute_result"
    }
   ],
   "source": [
    "X[0]"
   ]
  },
  {
   "cell_type": "markdown",
   "metadata": {},
   "source": [
    " "
   ]
  },
  {
   "cell_type": "markdown",
   "metadata": {},
   "source": [
    "## 고유 토큰 인덱싱"
   ]
  },
  {
   "cell_type": "code",
   "execution_count": 13,
   "metadata": {},
   "outputs": [],
   "source": [
    "from collections import defaultdict"
   ]
  },
  {
   "cell_type": "code",
   "execution_count": 14,
   "metadata": {},
   "outputs": [],
   "source": [
    "# 단어마다 고유한 인덱스를 부여하기 위한 dictionary\n",
    "token_to_index = defaultdict(lambda : len(token_to_index))"
   ]
  },
  {
   "cell_type": "code",
   "execution_count": 15,
   "metadata": {},
   "outputs": [],
   "source": [
    "# 단어에 대한 고유 인덱스를 부여하는 함수\n",
    "def convert_token_to_idx(token_ls):\n",
    "    for tokens in token_ls:\n",
    "        yield [token_to_index[token] for token in tokens]\n",
    "    return"
   ]
  },
  {
   "cell_type": "code",
   "execution_count": 16,
   "metadata": {},
   "outputs": [],
   "source": [
    "X = list(convert_token_to_idx(X))"
   ]
  },
  {
   "cell_type": "code",
   "execution_count": 17,
   "metadata": {},
   "outputs": [],
   "source": [
    "# 고유 인덱스로 변환될 경우, 원래 어떤 단어였는지 알기 어려우므로,\n",
    "# 인덱스로 변환된 단어를 본래의 단어로 재변환하기 위한 dictionary 생성\n",
    "index_to_token = {val : key for key,val in token_to_index.items()}"
   ]
  },
  {
   "cell_type": "markdown",
   "metadata": {},
   "source": [
    " "
   ]
  },
  {
   "cell_type": "markdown",
   "metadata": {},
   "source": [
    "#### 인덱싱 결과 확인 "
   ]
  },
  {
   "cell_type": "code",
   "execution_count": 18,
   "metadata": {},
   "outputs": [],
   "source": [
    "import operator"
   ]
  },
  {
   "cell_type": "code",
   "execution_count": 19,
   "metadata": {},
   "outputs": [
    {
     "name": "stdout",
     "output_type": "stream",
     "text": [
      "주님, 0\n",
      "대림시기를 1\n",
      "맞는 2\n",
      "교회가 3\n",
      "회개와 4\n"
     ]
    }
   ],
   "source": [
    "for k,v in sorted(token_to_index.items(), key=operator.itemgetter(1))[:5]:\n",
    "    print (k,v)"
   ]
  },
  {
   "cell_type": "code",
   "execution_count": 20,
   "metadata": {},
   "outputs": [
    {
     "data": {
      "text/plain": [
       "[0, 1, 2, 3, 4, 5, 6, 7, 8, 9, 10, 11, 12, 13, 14, 15, 16, 17]"
      ]
     },
     "execution_count": 20,
     "metadata": {},
     "output_type": "execute_result"
    }
   ],
   "source": [
    "X[0]"
   ]
  },
  {
   "cell_type": "markdown",
   "metadata": {},
   "source": [
    " "
   ]
  },
  {
   "cell_type": "markdown",
   "metadata": {},
   "source": [
    "### 빈(empty) 단어 가방(Bag of Words) 생성"
   ]
  },
  {
   "cell_type": "code",
   "execution_count": 21,
   "metadata": {},
   "outputs": [],
   "source": [
    "n_train_reviews = len(X)       # 학습용 리뷰의 총 수\n",
    "n_unique_word = len(token_to_index)  # 고유 단어의 갯수 (BOW의 차원의 크기) "
   ]
  },
  {
   "cell_type": "code",
   "execution_count": 22,
   "metadata": {},
   "outputs": [
    {
     "data": {
      "text/plain": [
       "3329"
      ]
     },
     "execution_count": 22,
     "metadata": {},
     "output_type": "execute_result"
    }
   ],
   "source": [
    "n_unique_word"
   ]
  },
  {
   "cell_type": "markdown",
   "metadata": {},
   "source": [
    " "
   ]
  },
  {
   "cell_type": "markdown",
   "metadata": {},
   "source": [
    "### numpy를 사용하면 memory error 발생 "
   ]
  },
  {
   "cell_type": "code",
   "execution_count": 23,
   "metadata": {},
   "outputs": [],
   "source": [
    "import numpy as np"
   ]
  },
  {
   "cell_type": "code",
   "execution_count": 24,
   "metadata": {},
   "outputs": [],
   "source": [
    "bow = np.zeros((n_train_reviews, n_unique_word), dtype=np.float32)"
   ]
  },
  {
   "cell_type": "markdown",
   "metadata": {},
   "source": [
    " "
   ]
  },
  {
   "cell_type": "markdown",
   "metadata": {},
   "source": [
    "### Scipy 패키지 활용"
   ]
  },
  {
   "cell_type": "code",
   "execution_count": 25,
   "metadata": {},
   "outputs": [],
   "source": [
    "# import scipy.sparse as sps"
   ]
  },
  {
   "cell_type": "code",
   "execution_count": 26,
   "metadata": {},
   "outputs": [],
   "source": [
    "# 학습용 리뷰 수(150,000) x 고유 단어의 수(450,541)의 크기를 갖는 빈 단어가방 생성\n",
    "# bow_data = sps.lil_matrix((n_train_reviews, n_unique_word), dtype=np.int8)"
   ]
  },
  {
   "cell_type": "markdown",
   "metadata": {},
   "source": [
    " "
   ]
  },
  {
   "cell_type": "markdown",
   "metadata": {},
   "source": [
    "### 단어 가방 채우기"
   ]
  },
  {
   "cell_type": "code",
   "execution_count": 27,
   "metadata": {},
   "outputs": [],
   "source": [
    "for i, tokens in enumerate(X):\n",
    "    for token in tokens:\n",
    "        # i번 째 리뷰에 등장한 단어들을 세서, 고유 번호에 1씩 더해준다.\n",
    "        bow[i, token] += 1.0"
   ]
  },
  {
   "cell_type": "markdown",
   "metadata": {},
   "source": [
    " "
   ]
  },
  {
   "cell_type": "markdown",
   "metadata": {},
   "source": [
    "### Train / test split"
   ]
  },
  {
   "cell_type": "code",
   "execution_count": 28,
   "metadata": {},
   "outputs": [
    {
     "name": "stdout",
     "output_type": "stream",
     "text": [
      "(619, 3329) (155, 3329) (619,) (155,)\n",
      "[3 2 3 1 0]\n"
     ]
    }
   ],
   "source": [
    "bow_train, bow_test, y_train, y_test = train_test_split(bow, y, test_size=0.2, random_state=1212)\n",
    "print(bow_train.shape, bow_test.shape, y_train.shape, y_test.shape)\n",
    "print(y_train[:5])"
   ]
  },
  {
   "cell_type": "markdown",
   "metadata": {},
   "source": [
    "## Logistic Regression"
   ]
  },
  {
   "cell_type": "code",
   "execution_count": 29,
   "metadata": {},
   "outputs": [],
   "source": [
    "from sklearn.linear_model import LogisticRegression"
   ]
  },
  {
   "cell_type": "code",
   "execution_count": 30,
   "metadata": {},
   "outputs": [],
   "source": [
    "model = LogisticRegression(multi_class='multinomial', solver='lbfgs')"
   ]
  },
  {
   "cell_type": "markdown",
   "metadata": {},
   "source": [
    "### Train"
   ]
  },
  {
   "cell_type": "code",
   "execution_count": 31,
   "metadata": {},
   "outputs": [
    {
     "data": {
      "text/plain": [
       "LogisticRegression(C=1.0, class_weight=None, dual=False, fit_intercept=True,\n",
       "          intercept_scaling=1, max_iter=100, multi_class='multinomial',\n",
       "          n_jobs=1, penalty='l2', random_state=None, solver='lbfgs',\n",
       "          tol=0.0001, verbose=0, warm_start=False)"
      ]
     },
     "execution_count": 31,
     "metadata": {},
     "output_type": "execute_result"
    }
   ],
   "source": [
    "model.fit(bow_train, y_train)"
   ]
  },
  {
   "cell_type": "markdown",
   "metadata": {},
   "source": [
    " "
   ]
  },
  {
   "cell_type": "markdown",
   "metadata": {},
   "source": [
    "### Test"
   ]
  },
  {
   "cell_type": "code",
   "execution_count": 32,
   "metadata": {},
   "outputs": [],
   "source": [
    "from sklearn.metrics import classification_report\n",
    "from sklearn.metrics import accuracy_score"
   ]
  },
  {
   "cell_type": "code",
   "execution_count": 33,
   "metadata": {},
   "outputs": [],
   "source": [
    "predict = model.predict(bow_test)\n",
    "accuracy = accuracy_score(y_test, predict)"
   ]
  },
  {
   "cell_type": "code",
   "execution_count": 34,
   "metadata": {},
   "outputs": [
    {
     "name": "stdout",
     "output_type": "stream",
     "text": [
      "Accuracy :  0.7870967741935484\n",
      "             precision    recall  f1-score   support\n",
      "\n",
      "          0       0.86      0.95      0.90        38\n",
      "          1       0.84      0.76      0.80        42\n",
      "          2       0.81      0.71      0.75        41\n",
      "          3       0.64      0.74      0.68        34\n",
      "\n",
      "avg / total       0.79      0.79      0.79       155\n",
      "\n"
     ]
    }
   ],
   "source": [
    "print('Accuracy : ',accuracy)\n",
    "print(classification_report(y_test, predict))"
   ]
  },
  {
   "cell_type": "markdown",
   "metadata": {},
   "source": [
    "## Pytorch"
   ]
  },
  {
   "cell_type": "code",
   "execution_count": 35,
   "metadata": {},
   "outputs": [],
   "source": [
    "import torch"
   ]
  },
  {
   "cell_type": "code",
   "execution_count": 36,
   "metadata": {},
   "outputs": [],
   "source": [
    "# dataset : bow_train, bow_test, y_train, y_test\n",
    "bow_train, y_train, bow_test, y_test = map(\n",
    "    torch.tensor, (bow_train, y_train, bow_test, y_test)\n",
    ")"
   ]
  },
  {
   "cell_type": "code",
   "execution_count": 37,
   "metadata": {},
   "outputs": [
    {
     "name": "stdout",
     "output_type": "stream",
     "text": [
      "torch.Size([619, 3329])\n"
     ]
    }
   ],
   "source": [
    "n, c = bow_train.shape\n",
    "print(bow_train.shape)"
   ]
  },
  {
   "cell_type": "code",
   "execution_count": 38,
   "metadata": {},
   "outputs": [
    {
     "name": "stdout",
     "output_type": "stream",
     "text": [
      "tensor(0) tensor(3)\n",
      "tensor(0) tensor(3)\n"
     ]
    }
   ],
   "source": [
    "print(y_train.min(), y_train.max())\n",
    "print(y_test.min(), y_test.max())"
   ]
  },
  {
   "cell_type": "code",
   "execution_count": 39,
   "metadata": {},
   "outputs": [
    {
     "name": "stdout",
     "output_type": "stream",
     "text": [
      "tensor([[1., 0., 0.,  ..., 0., 0., 0.],\n",
      "        [1., 0., 0.,  ..., 0., 0., 0.],\n",
      "        [1., 1., 0.,  ..., 0., 0., 0.],\n",
      "        [1., 0., 0.,  ..., 0., 0., 0.],\n",
      "        [1., 0., 0.,  ..., 0., 0., 0.]])\n",
      "tensor([3, 2, 3, 1, 0])\n"
     ]
    }
   ],
   "source": [
    "bs = 64  # batch size\n",
    "\n",
    "xb = bow_train[0:bs]  # a mini-batch from x\n",
    "yb = y_train[0:bs]\n",
    "xv = bow_test[0:bs]\n",
    "yv = y_test[0:bs]\n",
    "\n",
    "print(xb[:5])\n",
    "print(yb[:5])\n"
   ]
  },
  {
   "cell_type": "markdown",
   "metadata": {},
   "source": [
    "### Logistic regression with equations"
   ]
  },
  {
   "cell_type": "code",
   "execution_count": 40,
   "metadata": {},
   "outputs": [
    {
     "name": "stdout",
     "output_type": "stream",
     "text": [
      "tensor(1.3930, grad_fn=<NegBackward>) tensor(0.2344)\n",
      "tensor(1.3910, grad_fn=<NegBackward>) tensor(0.2031)\n"
     ]
    }
   ],
   "source": [
    "import math\n",
    "\n",
    "weights = torch.randn(3329, 4) / math.sqrt(3329)\n",
    "weights.requires_grad_()\n",
    "bias = torch.zeros(4, requires_grad=True)\n",
    "\n",
    "def log_softmax(x):\n",
    "    return x - x.exp().sum(-1).log().unsqueeze(-1)\n",
    "\n",
    "def model(xb):\n",
    "    return log_softmax(xb @ weights + bias)\n",
    "\n",
    "def nll(pred, gt):\n",
    "    return -pred[range(gt.shape[0]), gt].mean()\n",
    "\n",
    "def accuracy(out, y):\n",
    "    preds = torch.argmax(out, dim=1)\n",
    "    return (preds == y).float().mean()\n",
    "\n",
    "loss_func = nll\n",
    "\n",
    "print(loss_func(model(xb), yb), accuracy(model(xb), yb))\n",
    "print(loss_func(model(xv), yv), accuracy(model(xv), yv))\n"
   ]
  },
  {
   "cell_type": "code",
   "execution_count": 41,
   "metadata": {
    "scrolled": true
   },
   "outputs": [
    {
     "name": "stdout",
     "output_type": "stream",
     "text": [
      "Epoch: 0 tensor(1.3524, grad_fn=<NegBackward>) tensor(0.4233) tensor(1.3595, grad_fn=<NegBackward>) tensor(0.4129)\n",
      "Epoch: 1 tensor(1.3172, grad_fn=<NegBackward>) tensor(0.5767) tensor(1.3302, grad_fn=<NegBackward>) tensor(0.5226)\n",
      "Epoch: 2 tensor(1.2841, grad_fn=<NegBackward>) tensor(0.6478) tensor(1.3027, grad_fn=<NegBackward>) tensor(0.5871)\n",
      "Epoch: 3 tensor(1.2530, grad_fn=<NegBackward>) tensor(0.6753) tensor(1.2769, grad_fn=<NegBackward>) tensor(0.6000)\n",
      "Epoch: 4 tensor(1.2236, grad_fn=<NegBackward>) tensor(0.6979) tensor(1.2527, grad_fn=<NegBackward>) tensor(0.6000)\n",
      "Epoch: 5 tensor(1.1959, grad_fn=<NegBackward>) tensor(0.7027) tensor(1.2298, grad_fn=<NegBackward>) tensor(0.5871)\n",
      "Epoch: 6 tensor(1.1697, grad_fn=<NegBackward>) tensor(0.7205) tensor(1.2082, grad_fn=<NegBackward>) tensor(0.6000)\n",
      "Epoch: 7 tensor(1.1449, grad_fn=<NegBackward>) tensor(0.7383) tensor(1.1878, grad_fn=<NegBackward>) tensor(0.6065)\n",
      "Epoch: 8 tensor(1.1213, grad_fn=<NegBackward>) tensor(0.7544) tensor(1.1685, grad_fn=<NegBackward>) tensor(0.6258)\n",
      "Epoch: 9 tensor(1.0989, grad_fn=<NegBackward>) tensor(0.7609) tensor(1.1502, grad_fn=<NegBackward>) tensor(0.6258)\n",
      "Epoch: 10 tensor(1.0776, grad_fn=<NegBackward>) tensor(0.7658) tensor(1.1328, grad_fn=<NegBackward>) tensor(0.6452)\n",
      "Epoch: 11 tensor(1.0573, grad_fn=<NegBackward>) tensor(0.7738) tensor(1.1163, grad_fn=<NegBackward>) tensor(0.6774)\n",
      "Epoch: 12 tensor(1.0379, grad_fn=<NegBackward>) tensor(0.7884) tensor(1.1006, grad_fn=<NegBackward>) tensor(0.6839)\n",
      "Epoch: 13 tensor(1.0194, grad_fn=<NegBackward>) tensor(0.7964) tensor(1.0856, grad_fn=<NegBackward>) tensor(0.7032)\n",
      "Epoch: 14 tensor(1.0017, grad_fn=<NegBackward>) tensor(0.7981) tensor(1.0714, grad_fn=<NegBackward>) tensor(0.7097)\n",
      "Epoch: 15 tensor(0.9848, grad_fn=<NegBackward>) tensor(0.8029) tensor(1.0578, grad_fn=<NegBackward>) tensor(0.7161)\n",
      "Epoch: 16 tensor(0.9685, grad_fn=<NegBackward>) tensor(0.8061) tensor(1.0448, grad_fn=<NegBackward>) tensor(0.7161)\n",
      "Epoch: 17 tensor(0.9530, grad_fn=<NegBackward>) tensor(0.8158) tensor(1.0324, grad_fn=<NegBackward>) tensor(0.7161)\n",
      "Epoch: 18 tensor(0.9380, grad_fn=<NegBackward>) tensor(0.8158) tensor(1.0205, grad_fn=<NegBackward>) tensor(0.7290)\n",
      "Epoch: 19 tensor(0.9236, grad_fn=<NegBackward>) tensor(0.8191) tensor(1.0092, grad_fn=<NegBackward>) tensor(0.7355)\n",
      "Epoch: 20 tensor(0.9098, grad_fn=<NegBackward>) tensor(0.8223) tensor(0.9983, grad_fn=<NegBackward>) tensor(0.7355)\n",
      "Epoch: 21 tensor(0.8965, grad_fn=<NegBackward>) tensor(0.8239) tensor(0.9878, grad_fn=<NegBackward>) tensor(0.7355)\n",
      "Epoch: 22 tensor(0.8836, grad_fn=<NegBackward>) tensor(0.8288) tensor(0.9778, grad_fn=<NegBackward>) tensor(0.7419)\n",
      "Epoch: 23 tensor(0.8712, grad_fn=<NegBackward>) tensor(0.8288) tensor(0.9682, grad_fn=<NegBackward>) tensor(0.7419)\n",
      "Epoch: 24 tensor(0.8592, grad_fn=<NegBackward>) tensor(0.8304) tensor(0.9589, grad_fn=<NegBackward>) tensor(0.7419)\n",
      "Epoch: 25 tensor(0.8477, grad_fn=<NegBackward>) tensor(0.8336) tensor(0.9500, grad_fn=<NegBackward>) tensor(0.7419)\n",
      "Epoch: 26 tensor(0.8365, grad_fn=<NegBackward>) tensor(0.8384) tensor(0.9414, grad_fn=<NegBackward>) tensor(0.7419)\n",
      "Epoch: 27 tensor(0.8256, grad_fn=<NegBackward>) tensor(0.8401) tensor(0.9332, grad_fn=<NegBackward>) tensor(0.7484)\n",
      "Epoch: 28 tensor(0.8151, grad_fn=<NegBackward>) tensor(0.8401) tensor(0.9252, grad_fn=<NegBackward>) tensor(0.7548)\n",
      "Epoch: 29 tensor(0.8049, grad_fn=<NegBackward>) tensor(0.8449) tensor(0.9175, grad_fn=<NegBackward>) tensor(0.7677)\n"
     ]
    }
   ],
   "source": [
    "from IPython.core.debugger import set_trace\n",
    "\n",
    "lr = 0.5  # learning rate\n",
    "epochs = 30  # how many epochs to train for\n",
    "\n",
    "for epoch in range(epochs):\n",
    "    ## Feed foward\n",
    "    pred = model(bow_train)\n",
    "    loss = loss_func(pred, y_train)\n",
    "\n",
    "    ## Backpropagation\n",
    "    loss.backward()\n",
    "\n",
    "    with torch.no_grad():\n",
    "        weights -= weights.grad * lr\n",
    "        bias -= bias.grad * lr\n",
    "        weights.grad.zero_()\n",
    "        bias.grad.zero_()\n",
    "    \n",
    "    print(\"Epoch:\", epoch, loss_func(model(bow_train), y_train), accuracy(model(bow_train), y_train), loss_func(model(bow_test), y_test), accuracy(model(bow_test), y_test))"
   ]
  },
  {
   "cell_type": "code",
   "execution_count": 42,
   "metadata": {},
   "outputs": [
    {
     "data": {
      "text/plain": [
       "tensor([[1., 0., 0.,  ..., 0., 0., 0.],\n",
       "        [1., 0., 0.,  ..., 0., 0., 0.],\n",
       "        [1., 1., 0.,  ..., 0., 0., 0.],\n",
       "        ...,\n",
       "        [1., 0., 0.,  ..., 0., 0., 0.],\n",
       "        [1., 0., 0.,  ..., 0., 0., 0.],\n",
       "        [1., 0., 0.,  ..., 0., 0., 0.]])"
      ]
     },
     "execution_count": 42,
     "metadata": {},
     "output_type": "execute_result"
    }
   ],
   "source": [
    "xb"
   ]
  },
  {
   "cell_type": "code",
   "execution_count": 43,
   "metadata": {},
   "outputs": [
    {
     "data": {
      "text/plain": [
       "tensor([3, 2, 3, 1, 0, 2, 2, 0, 1, 3, 0, 2, 2, 1, 3, 1, 0, 1, 0, 3, 2, 0, 1, 1,\n",
       "        2, 1, 0, 3, 1, 1, 0, 2, 0, 1, 1, 0, 3, 3, 1, 1, 3, 2, 2, 3, 0, 1, 2, 1,\n",
       "        3, 0, 1, 2, 0, 2, 3, 0, 3, 3, 2, 3, 1, 1, 1, 3])"
      ]
     },
     "execution_count": 43,
     "metadata": {},
     "output_type": "execute_result"
    }
   ],
   "source": [
    "yb"
   ]
  },
  {
   "cell_type": "markdown",
   "metadata": {},
   "source": [
    "## Train with Pytorch CrossEntrophy"
   ]
  },
  {
   "cell_type": "code",
   "execution_count": 44,
   "metadata": {
    "scrolled": true
   },
   "outputs": [
    {
     "name": "stdout",
     "output_type": "stream",
     "text": [
      "Parameter containing:\n",
      "tensor([[-0.0202,  0.0377,  0.0199,  0.0299],\n",
      "        [ 0.0017, -0.0119,  0.0091,  0.0166],\n",
      "        [ 0.0142, -0.0208,  0.0059, -0.0066],\n",
      "        ...,\n",
      "        [ 0.0326, -0.0266, -0.0374, -0.0289],\n",
      "        [ 0.0034,  0.0013,  0.0098,  0.0164],\n",
      "        [ 0.0126, -0.0108,  0.0148,  0.0119]], requires_grad=True)\n",
      "Parameter containing:\n",
      "tensor([0., 0., 0., 0.], requires_grad=True)\n",
      "torch.Size([64, 4])\n",
      "torch.Size([64])\n",
      "1.3815109729766846 0.234375\n"
     ]
    }
   ],
   "source": [
    "from torch import nn\n",
    "import torch.nn.functional as F\n",
    "\n",
    "loss_func = F.cross_entropy\n",
    "\n",
    "class Logistic_Regression(nn.Module):\n",
    "    def __init__(self):\n",
    "        super().__init__()\n",
    "        self.weights = nn.Parameter(torch.randn(3329, 4) / math.sqrt(3329))\n",
    "        self.bias = nn.Parameter(torch.zeros(4))\n",
    "\n",
    "    def forward(self, xb):\n",
    "        return xb @ self.weights + self.bias\n",
    "\n",
    "model = Logistic_Regression()\n",
    "\n",
    "with torch.no_grad(): # To see model's paramter without calculating gradient\n",
    "    for p in model.parameters(): \n",
    "        print(p)\n",
    "    print(model(xb).shape)\n",
    "    print(yb.shape)\n",
    "    \n",
    "    print(loss_func(model(xb), yb).item(), accuracy(model(xb), yb).item())"
   ]
  },
  {
   "cell_type": "code",
   "execution_count": 45,
   "metadata": {},
   "outputs": [],
   "source": [
    "loss = loss_func(model(xb), yb)\n",
    "loss.backward()"
   ]
  },
  {
   "cell_type": "code",
   "execution_count": 46,
   "metadata": {
    "scrolled": true
   },
   "outputs": [
    {
     "data": {
      "text/plain": [
       "<function torch.nn.functional.cross_entropy>"
      ]
     },
     "execution_count": 46,
     "metadata": {},
     "output_type": "execute_result"
    }
   ],
   "source": [
    "loss_func"
   ]
  },
  {
   "cell_type": "code",
   "execution_count": 47,
   "metadata": {
    "scrolled": false
   },
   "outputs": [
    {
     "name": "stdout",
     "output_type": "stream",
     "text": [
      "Epoch: 0 tensor(1.3116, grad_fn=<NllLossBackward>) tensor(0.4960) tensor(1.3298, grad_fn=<NllLossBackward>) tensor(0.4452)\n",
      "Epoch: 1 tensor(1.2776, grad_fn=<NllLossBackward>) tensor(0.6171) tensor(1.3019, grad_fn=<NllLossBackward>) tensor(0.5484)\n",
      "Epoch: 2 tensor(1.2466, grad_fn=<NllLossBackward>) tensor(0.6656) tensor(1.2764, grad_fn=<NllLossBackward>) tensor(0.6000)\n",
      "Epoch: 3 tensor(1.2176, grad_fn=<NllLossBackward>) tensor(0.7076) tensor(1.2526, grad_fn=<NllLossBackward>) tensor(0.6387)\n",
      "Epoch: 4 tensor(1.1903, grad_fn=<NllLossBackward>) tensor(0.7173) tensor(1.2301, grad_fn=<NllLossBackward>) tensor(0.6258)\n",
      "Epoch: 5 tensor(1.1645, grad_fn=<NllLossBackward>) tensor(0.7318) tensor(1.2089, grad_fn=<NllLossBackward>) tensor(0.6581)\n",
      "Epoch: 6 tensor(1.1401, grad_fn=<NllLossBackward>) tensor(0.7431) tensor(1.1888, grad_fn=<NllLossBackward>) tensor(0.6645)\n",
      "Epoch: 7 tensor(1.1169, grad_fn=<NllLossBackward>) tensor(0.7496) tensor(1.1698, grad_fn=<NllLossBackward>) tensor(0.6645)\n",
      "Epoch: 8 tensor(1.0948, grad_fn=<NllLossBackward>) tensor(0.7641) tensor(1.1517, grad_fn=<NllLossBackward>) tensor(0.6774)\n",
      "Epoch: 9 tensor(1.0739, grad_fn=<NllLossBackward>) tensor(0.7706) tensor(1.1346, grad_fn=<NllLossBackward>) tensor(0.6710)\n",
      "Epoch: 10 tensor(1.0539, grad_fn=<NllLossBackward>) tensor(0.7803) tensor(1.1183, grad_fn=<NllLossBackward>) tensor(0.6710)\n",
      "Epoch: 11 tensor(1.0348, grad_fn=<NllLossBackward>) tensor(0.7835) tensor(1.1028, grad_fn=<NllLossBackward>) tensor(0.6774)\n",
      "Epoch: 12 tensor(1.0166, grad_fn=<NllLossBackward>) tensor(0.7916) tensor(1.0880, grad_fn=<NllLossBackward>) tensor(0.6839)\n",
      "Epoch: 13 tensor(0.9992, grad_fn=<NllLossBackward>) tensor(0.7932) tensor(1.0739, grad_fn=<NllLossBackward>) tensor(0.6839)\n",
      "Epoch: 14 tensor(0.9825, grad_fn=<NllLossBackward>) tensor(0.8013) tensor(1.0605, grad_fn=<NllLossBackward>) tensor(0.7032)\n",
      "Epoch: 15 tensor(0.9665, grad_fn=<NllLossBackward>) tensor(0.8061) tensor(1.0476, grad_fn=<NllLossBackward>) tensor(0.7161)\n",
      "Epoch: 16 tensor(0.9511, grad_fn=<NllLossBackward>) tensor(0.8078) tensor(1.0354, grad_fn=<NllLossBackward>) tensor(0.7161)\n",
      "Epoch: 17 tensor(0.9364, grad_fn=<NllLossBackward>) tensor(0.8078) tensor(1.0236, grad_fn=<NllLossBackward>) tensor(0.7161)\n",
      "Epoch: 18 tensor(0.9222, grad_fn=<NllLossBackward>) tensor(0.8126) tensor(1.0123, grad_fn=<NllLossBackward>) tensor(0.7161)\n",
      "Epoch: 19 tensor(0.9085, grad_fn=<NllLossBackward>) tensor(0.8142) tensor(1.0015, grad_fn=<NllLossBackward>) tensor(0.7161)\n",
      "Epoch: 20 tensor(0.8953, grad_fn=<NllLossBackward>) tensor(0.8174) tensor(0.9912, grad_fn=<NllLossBackward>) tensor(0.7226)\n",
      "Epoch: 21 tensor(0.8826, grad_fn=<NllLossBackward>) tensor(0.8255) tensor(0.9812, grad_fn=<NllLossBackward>) tensor(0.7226)\n",
      "Epoch: 22 tensor(0.8704, grad_fn=<NllLossBackward>) tensor(0.8271) tensor(0.9716, grad_fn=<NllLossBackward>) tensor(0.7161)\n",
      "Epoch: 23 tensor(0.8585, grad_fn=<NllLossBackward>) tensor(0.8320) tensor(0.9624, grad_fn=<NllLossBackward>) tensor(0.7161)\n",
      "Epoch: 24 tensor(0.8471, grad_fn=<NllLossBackward>) tensor(0.8368) tensor(0.9535, grad_fn=<NllLossBackward>) tensor(0.7226)\n",
      "Epoch: 25 tensor(0.8360, grad_fn=<NllLossBackward>) tensor(0.8401) tensor(0.9450, grad_fn=<NllLossBackward>) tensor(0.7226)\n",
      "Epoch: 26 tensor(0.8252, grad_fn=<NllLossBackward>) tensor(0.8417) tensor(0.9368, grad_fn=<NllLossBackward>) tensor(0.7226)\n",
      "Epoch: 27 tensor(0.8148, grad_fn=<NllLossBackward>) tensor(0.8433) tensor(0.9288, grad_fn=<NllLossBackward>) tensor(0.7355)\n",
      "Epoch: 28 tensor(0.8047, grad_fn=<NllLossBackward>) tensor(0.8449) tensor(0.9212, grad_fn=<NllLossBackward>) tensor(0.7355)\n",
      "Epoch: 29 tensor(0.7950, grad_fn=<NllLossBackward>) tensor(0.8449) tensor(0.9138, grad_fn=<NllLossBackward>) tensor(0.7355)\n"
     ]
    }
   ],
   "source": [
    "def fit():\n",
    "    for epoch in range(epochs):\n",
    "        pred = model(bow_train)\n",
    "        loss = loss_func(pred, y_train)\n",
    "\n",
    "        #back propagation\n",
    "        loss.backward()\n",
    "\n",
    "        # update weights\n",
    "        with torch.no_grad():\n",
    "            for p in model.parameters():\n",
    "                 p -= p.grad * lr\n",
    "            model.zero_grad()\n",
    "        \n",
    "        print(\"Epoch:\", epoch, loss_func(model(bow_train), y_train), accuracy(model(bow_train), y_train), loss_func(model(bow_test), y_test), accuracy(model(bow_test), y_test))\n",
    "\n",
    "fit()"
   ]
  },
  {
   "cell_type": "markdown",
   "metadata": {},
   "source": [
    "## Train with Pytorch Layers & optimizer"
   ]
  },
  {
   "cell_type": "code",
   "execution_count": 56,
   "metadata": {},
   "outputs": [
    {
     "name": "stdout",
     "output_type": "stream",
     "text": [
      "Parameter containing:\n",
      "tensor([[-0.0008,  0.0078, -0.0139,  ...,  0.0017, -0.0140, -0.0072],\n",
      "        [ 0.0157,  0.0065, -0.0055,  ..., -0.0070, -0.0044,  0.0069],\n",
      "        [ 0.0026, -0.0089,  0.0142,  ...,  0.0109, -0.0079,  0.0038],\n",
      "        [-0.0068, -0.0107,  0.0038,  ...,  0.0169, -0.0057, -0.0092]],\n",
      "       requires_grad=True)\n",
      "Parameter containing:\n",
      "tensor([-0.0135,  0.0025, -0.0138, -0.0117], requires_grad=True)\n"
     ]
    }
   ],
   "source": [
    "from torch import nn, optim\n",
    "import torch.nn.functional as F\n",
    "\n",
    "class Perceptron(nn.Module):\n",
    "    def __init__(self):\n",
    "        super().__init__()\n",
    "        self.fc = nn.Linear(3329,4)\n",
    "        self.relu = nn.ReLU() # instead of Heaviside step fn\n",
    "        \n",
    "    def forward(self, x):\n",
    "        output = self.fc(x)\n",
    "        output = self.relu(output) # instead of Heaviside step fn\n",
    "        return output\n",
    "\n",
    "model = Perceptron()\n",
    "for param in model.parameters():\n",
    "    print(param)\n",
    "#     param.requires_grad_(True)"
   ]
  },
  {
   "cell_type": "code",
   "execution_count": 59,
   "metadata": {
    "scrolled": true
   },
   "outputs": [
    {
     "name": "stdout",
     "output_type": "stream",
     "text": [
      "Epoch: 0 tensor(0.6852, grad_fn=<NllLossBackward>) tensor(0.8821) tensor(0.8250, grad_fn=<NllLossBackward>) tensor(0.7806)\n",
      "Epoch: 1 tensor(0.6787, grad_fn=<NllLossBackward>) tensor(0.8837) tensor(0.8205, grad_fn=<NllLossBackward>) tensor(0.7806)\n",
      "Epoch: 2 tensor(0.6723, grad_fn=<NllLossBackward>) tensor(0.8853) tensor(0.8160, grad_fn=<NllLossBackward>) tensor(0.7806)\n",
      "Epoch: 3 tensor(0.6661, grad_fn=<NllLossBackward>) tensor(0.8885) tensor(0.8117, grad_fn=<NllLossBackward>) tensor(0.7806)\n",
      "Epoch: 4 tensor(0.6600, grad_fn=<NllLossBackward>) tensor(0.8901) tensor(0.8075, grad_fn=<NllLossBackward>) tensor(0.7871)\n",
      "Epoch: 5 tensor(0.6540, grad_fn=<NllLossBackward>) tensor(0.8918) tensor(0.8035, grad_fn=<NllLossBackward>) tensor(0.7871)\n",
      "Epoch: 6 tensor(0.6481, grad_fn=<NllLossBackward>) tensor(0.8918) tensor(0.7995, grad_fn=<NllLossBackward>) tensor(0.7871)\n",
      "Epoch: 7 tensor(0.6424, grad_fn=<NllLossBackward>) tensor(0.8934) tensor(0.7956, grad_fn=<NllLossBackward>) tensor(0.7871)\n",
      "Epoch: 8 tensor(0.6368, grad_fn=<NllLossBackward>) tensor(0.8934) tensor(0.7918, grad_fn=<NllLossBackward>) tensor(0.7871)\n",
      "Epoch: 9 tensor(0.6313, grad_fn=<NllLossBackward>) tensor(0.8934) tensor(0.7881, grad_fn=<NllLossBackward>) tensor(0.7871)\n",
      "Epoch: 10 tensor(0.6258, grad_fn=<NllLossBackward>) tensor(0.8918) tensor(0.7845, grad_fn=<NllLossBackward>) tensor(0.7871)\n",
      "Epoch: 11 tensor(0.6205, grad_fn=<NllLossBackward>) tensor(0.8918) tensor(0.7809, grad_fn=<NllLossBackward>) tensor(0.7871)\n",
      "Epoch: 12 tensor(0.6153, grad_fn=<NllLossBackward>) tensor(0.8918) tensor(0.7775, grad_fn=<NllLossBackward>) tensor(0.7871)\n",
      "Epoch: 13 tensor(0.6102, grad_fn=<NllLossBackward>) tensor(0.8918) tensor(0.7741, grad_fn=<NllLossBackward>) tensor(0.7871)\n",
      "Epoch: 14 tensor(0.6052, grad_fn=<NllLossBackward>) tensor(0.8918) tensor(0.7708, grad_fn=<NllLossBackward>) tensor(0.7871)\n",
      "Epoch: 15 tensor(0.6002, grad_fn=<NllLossBackward>) tensor(0.8918) tensor(0.7676, grad_fn=<NllLossBackward>) tensor(0.7871)\n",
      "Epoch: 16 tensor(0.5954, grad_fn=<NllLossBackward>) tensor(0.8950) tensor(0.7645, grad_fn=<NllLossBackward>) tensor(0.7871)\n",
      "Epoch: 17 tensor(0.5906, grad_fn=<NllLossBackward>) tensor(0.8966) tensor(0.7614, grad_fn=<NllLossBackward>) tensor(0.7871)\n",
      "Epoch: 18 tensor(0.5860, grad_fn=<NllLossBackward>) tensor(0.8966) tensor(0.7584, grad_fn=<NllLossBackward>) tensor(0.7871)\n",
      "Epoch: 19 tensor(0.5813, grad_fn=<NllLossBackward>) tensor(0.8982) tensor(0.7554, grad_fn=<NllLossBackward>) tensor(0.7871)\n",
      "Epoch: 20 tensor(0.5768, grad_fn=<NllLossBackward>) tensor(0.8982) tensor(0.7526, grad_fn=<NllLossBackward>) tensor(0.7871)\n",
      "Epoch: 21 tensor(0.5724, grad_fn=<NllLossBackward>) tensor(0.8998) tensor(0.7497, grad_fn=<NllLossBackward>) tensor(0.7871)\n"
     ]
    }
   ],
   "source": [
    "# criterion = nn.BCELoss()\n",
    "criterion = nn.CrossEntropyLoss()\n",
    "optimizer = optim.SGD(model.parameters(), lr = lr)\n",
    "\n",
    "model.train()\n",
    "\n",
    "for epoch in range(epoch):\n",
    "    optimizer.zero_grad()\n",
    "    # Forward pass\n",
    "    y_pred = model(bow_train)\n",
    "    \n",
    "    # Compute Loss\n",
    "    loss = criterion(y_pred, y_train)\n",
    "    \n",
    "    # Backward pass\n",
    "    loss.backward()\n",
    "    optimizer.step()\n",
    "    \n",
    "    # Log\n",
    "    val_loss = criterion(model(bow_test), y_test)\n",
    "    print(\"Epoch:\", epoch, loss_func(model(bow_train), y_train), accuracy(model(bow_train), y_train), loss_func(model(bow_test), y_test), accuracy(model(bow_test), y_test))\n"
   ]
  },
  {
   "cell_type": "markdown",
   "metadata": {},
   "source": [
    "## Train with Pytorch MLP"
   ]
  },
  {
   "cell_type": "code",
   "execution_count": 68,
   "metadata": {},
   "outputs": [],
   "source": [
    "from torch import nn, optim\n",
    "import torch.nn.functional as F\n",
    "\n",
    "class MultiLayerPerceptron(nn.Module):\n",
    "    def __init__(self):\n",
    "        super().__init__()\n",
    "        self.fc_hidden = nn.Linear(3329,2000)\n",
    "        self.relu = nn.ReLU() # instead of Heaviside step fn\n",
    "        self.fc_output = nn.Linear(2000, 4)\n",
    "\n",
    "    def forward(self, x):\n",
    "        output = self.fc_hidden(x)\n",
    "        output = self.relu(output) # instead of Heaviside step fn\n",
    "        output = self.fc_output(output)\n",
    "        return output"
   ]
  },
  {
   "cell_type": "code",
   "execution_count": 69,
   "metadata": {},
   "outputs": [
    {
     "name": "stdout",
     "output_type": "stream",
     "text": [
      "Parameter containing:\n",
      "tensor([[-0.0097, -0.0005,  0.0110,  ..., -0.0024, -0.0136,  0.0062],\n",
      "        [-0.0121, -0.0127, -0.0126,  ...,  0.0012, -0.0140,  0.0079],\n",
      "        [ 0.0153,  0.0111,  0.0146,  ..., -0.0097,  0.0013,  0.0003],\n",
      "        ...,\n",
      "        [-0.0162,  0.0105, -0.0173,  ..., -0.0047,  0.0095,  0.0153],\n",
      "        [ 0.0148, -0.0108, -0.0026,  ..., -0.0084,  0.0101, -0.0113],\n",
      "        [ 0.0128, -0.0171,  0.0108,  ..., -0.0169, -0.0107, -0.0085]],\n",
      "       requires_grad=True)\n",
      "Parameter containing:\n",
      "tensor([ 0.0004, -0.0110,  0.0043,  ..., -0.0001,  0.0060,  0.0130],\n",
      "       requires_grad=True)\n",
      "Parameter containing:\n",
      "tensor([[-1.5774e-02,  1.8338e-02, -1.9357e-02,  ..., -1.1281e-02,\n",
      "          2.1894e-02,  6.8926e-04],\n",
      "        [-6.3298e-03,  1.7564e-02,  4.9387e-03,  ..., -3.7360e-03,\n",
      "          5.1971e-03,  1.2944e-02],\n",
      "        [-1.1440e-02,  2.1414e-02, -2.0968e-02,  ..., -1.6232e-02,\n",
      "          3.0976e-03, -3.1110e-05],\n",
      "        [ 1.9348e-02, -1.0044e-02, -1.7488e-02,  ..., -1.3856e-02,\n",
      "          1.9341e-02,  1.1076e-02]], requires_grad=True)\n",
      "Parameter containing:\n",
      "tensor([ 0.0062,  0.0079, -0.0165, -0.0108], requires_grad=True)\n"
     ]
    }
   ],
   "source": [
    "\n",
    "model = MultiLayerPerceptron()\n",
    "for param in model.parameters():\n",
    "    print(param)"
   ]
  },
  {
   "cell_type": "code",
   "execution_count": null,
   "metadata": {},
   "outputs": [
    {
     "name": "stdout",
     "output_type": "stream",
     "text": [
      "Epoch: 0 tensor(0.7056, grad_fn=<NllLossBackward>) tensor(0.8659) tensor(0.8508, grad_fn=<NllLossBackward>) tensor(0.7806)\n",
      "Epoch: 1 tensor(0.6793, grad_fn=<NllLossBackward>) tensor(0.8772) tensor(0.8313, grad_fn=<NllLossBackward>) tensor(0.7935)\n",
      "Epoch: 2 tensor(0.6540, grad_fn=<NllLossBackward>) tensor(0.8805) tensor(0.8129, grad_fn=<NllLossBackward>) tensor(0.8000)\n",
      "Epoch: 3 tensor(0.6297, grad_fn=<NllLossBackward>) tensor(0.8837) tensor(0.7954, grad_fn=<NllLossBackward>) tensor(0.8000)\n",
      "Epoch: 4 tensor(0.6062, grad_fn=<NllLossBackward>) tensor(0.8918) tensor(0.7790, grad_fn=<NllLossBackward>) tensor(0.7871)\n",
      "Epoch: 5 tensor(0.5837, grad_fn=<NllLossBackward>) tensor(0.8966) tensor(0.7636, grad_fn=<NllLossBackward>) tensor(0.7806)\n",
      "Epoch: 6 tensor(0.5621, grad_fn=<NllLossBackward>) tensor(0.8982) tensor(0.7490, grad_fn=<NllLossBackward>) tensor(0.7806)\n",
      "Epoch: 7 tensor(0.5413, grad_fn=<NllLossBackward>) tensor(0.9095) tensor(0.7354, grad_fn=<NllLossBackward>) tensor(0.7871)\n",
      "Epoch: 8 tensor(0.5214, grad_fn=<NllLossBackward>) tensor(0.9095) tensor(0.7226, grad_fn=<NllLossBackward>) tensor(0.7806)\n"
     ]
    }
   ],
   "source": [
    "# criterion = nn.BCELoss()\n",
    "criterion = nn.CrossEntropyLoss()\n",
    "optimizer = optim.SGD(model.parameters(), lr = lr)\n",
    "\n",
    "model.train()\n",
    "\n",
    "for epoch in range(epoch):\n",
    "    optimizer.zero_grad()\n",
    "    # Forward pass\n",
    "    y_pred = model(bow_train)\n",
    "    \n",
    "    # Compute Loss\n",
    "    loss = criterion(y_pred, y_train)\n",
    "    \n",
    "    # Backward pass\n",
    "    loss.backward()\n",
    "    optimizer.step()\n",
    "    \n",
    "    # Log\n",
    "    val_loss = criterion(model(bow_test), y_test)\n",
    "    print(\"Epoch:\", epoch, loss_func(model(bow_train), y_train), accuracy(model(bow_train), y_train), loss_func(model(bow_test), y_test), accuracy(model(bow_test), y_test))\n"
   ]
  },
  {
   "cell_type": "code",
   "execution_count": null,
   "metadata": {},
   "outputs": [],
   "source": []
  },
  {
   "cell_type": "code",
   "execution_count": null,
   "metadata": {},
   "outputs": [],
   "source": []
  },
  {
   "cell_type": "code",
   "execution_count": null,
   "metadata": {},
   "outputs": [],
   "source": []
  },
  {
   "cell_type": "code",
   "execution_count": null,
   "metadata": {},
   "outputs": [],
   "source": []
  }
 ],
 "metadata": {
  "kernelspec": {
   "display_name": "Python 3",
   "language": "python",
   "name": "python3"
  },
  "language_info": {
   "codemirror_mode": {
    "name": "ipython",
    "version": 3
   },
   "file_extension": ".py",
   "mimetype": "text/x-python",
   "name": "python",
   "nbconvert_exporter": "python",
   "pygments_lexer": "ipython3",
   "version": "3.6.4"
  }
 },
 "nbformat": 4,
 "nbformat_minor": 2
}

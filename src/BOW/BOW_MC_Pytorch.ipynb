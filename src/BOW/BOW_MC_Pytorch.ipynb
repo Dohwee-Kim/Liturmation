{
 "cells": [
  {
   "cell_type": "markdown",
   "metadata": {},
   "source": [
    "# data는 김도휘 형제님과 김명찬 형제님이 만들어주신 보편지향 기도 데이터를 사용하였습니다. "
   ]
  },
  {
   "cell_type": "code",
   "execution_count": 153,
   "metadata": {},
   "outputs": [],
   "source": [
    "import pandas as pd\n",
    "from sklearn.model_selection import train_test_split\n",
    "\n",
    "## CSV 에서 기도문 읽어오기\n",
    "def read_data(path_to_file):\n",
    "    df = pd.read_csv(path_to_file, dtype=str)\n",
    "    return df\n",
    "\n",
    "df = read_data('../../data/pray456_v3.csv')"
   ]
  },
  {
   "cell_type": "code",
   "execution_count": 154,
   "metadata": {},
   "outputs": [],
   "source": [
    "df.to_csv('../../data/pray456_v3withid.csv')"
   ]
  },
  {
   "cell_type": "code",
   "execution_count": 155,
   "metadata": {},
   "outputs": [
    {
     "name": "stdout",
     "output_type": "stream",
     "text": [
      "774\n",
      "774\n"
     ]
    }
   ],
   "source": [
    "X = df['content']\n",
    "y = df['label']\n",
    "print(len(X))\n",
    "print(len(y))"
   ]
  },
  {
   "cell_type": "code",
   "execution_count": 156,
   "metadata": {},
   "outputs": [
    {
     "data": {
      "text/plain": [
       "'주님, 대림시기를 맞는 교회가 회개와 화해의 생활을 하며 저희에게  오실 아기 예수님을 기쁜 마음으로 맞이할 수 있도록 도와주소서.'"
      ]
     },
     "execution_count": 156,
     "metadata": {},
     "output_type": "execute_result"
    }
   ],
   "source": [
    "X[0]"
   ]
  },
  {
   "cell_type": "code",
   "execution_count": 157,
   "metadata": {},
   "outputs": [
    {
     "data": {
      "text/plain": [
       "(50,)"
      ]
     },
     "execution_count": 157,
     "metadata": {},
     "output_type": "execute_result"
    }
   ],
   "source": [
    "y_quiz = df['content'].sample(50)\n",
    "y_quiz.shape"
   ]
  },
  {
   "cell_type": "code",
   "execution_count": 158,
   "metadata": {},
   "outputs": [],
   "source": [
    "y_quiz.sort_index().to_csv('../../data/quiz_pray1_sample50.csv')"
   ]
  },
  {
   "cell_type": "markdown",
   "metadata": {},
   "source": [
    "## y data one_hot encoding"
   ]
  },
  {
   "cell_type": "code",
   "execution_count": 159,
   "metadata": {},
   "outputs": [
    {
     "name": "stdout",
     "output_type": "stream",
     "text": [
      "<class 'str'> 0    1\n",
      "1    2\n",
      "2    3\n",
      "3    4\n",
      "4    1\n",
      "Name: label, dtype: object\n",
      "[0 1 2 3 0]\n",
      "[0 1 2 3 0]\n"
     ]
    }
   ],
   "source": [
    "from numpy import array\n",
    "from numpy import argmax\n",
    "from sklearn.preprocessing import LabelEncoder\n",
    "from sklearn.preprocessing import OneHotEncoder\n",
    "\n",
    "print(type(y[0]), y[:5])\n",
    "\n",
    "# integer encode\n",
    "label_encoder = LabelEncoder()\n",
    "integer_encoded = label_encoder.fit_transform(y)\n",
    "print(integer_encoded[:5])\n",
    "\n",
    "# # one_hot encode\n",
    "# onehot_encoder = OneHotEncoder(sparse=False)\n",
    "# integer_encoded = integer_encoded.reshape(len(integer_encoded), )\n",
    "# onehot_encoded = onehot_encoder.fit_transform(integer_encoded)\n",
    "# print(onehot_encoded[:5])\n",
    "\n",
    "# setup y \n",
    "# y = onehot_encoded\n",
    "y= integer_encoded\n",
    "print(y[:5])"
   ]
  },
  {
   "cell_type": "markdown",
   "metadata": {},
   "source": [
    "## 띄어쓰기로 구분"
   ]
  },
  {
   "cell_type": "code",
   "execution_count": 160,
   "metadata": {},
   "outputs": [],
   "source": [
    "X = [x.split() for x in X]"
   ]
  },
  {
   "cell_type": "code",
   "execution_count": 161,
   "metadata": {},
   "outputs": [
    {
     "data": {
      "text/plain": [
       "['주님,',\n",
       " '대림시기를',\n",
       " '맞는',\n",
       " '교회가',\n",
       " '회개와',\n",
       " '화해의',\n",
       " '생활을',\n",
       " '하며',\n",
       " '저희에게',\n",
       " '오실',\n",
       " '아기',\n",
       " '예수님을',\n",
       " '기쁜',\n",
       " '마음으로',\n",
       " '맞이할',\n",
       " '수',\n",
       " '있도록',\n",
       " '도와주소서.']"
      ]
     },
     "execution_count": 161,
     "metadata": {},
     "output_type": "execute_result"
    }
   ],
   "source": [
    "X[0]"
   ]
  },
  {
   "cell_type": "markdown",
   "metadata": {},
   "source": [
    " "
   ]
  },
  {
   "cell_type": "markdown",
   "metadata": {},
   "source": [
    "## 고유 토큰 인덱싱"
   ]
  },
  {
   "cell_type": "code",
   "execution_count": 162,
   "metadata": {},
   "outputs": [],
   "source": [
    "from collections import defaultdict"
   ]
  },
  {
   "cell_type": "code",
   "execution_count": 163,
   "metadata": {},
   "outputs": [],
   "source": [
    "# 단어마다 고유한 인덱스를 부여하기 위한 dictionary\n",
    "token_to_index = defaultdict(lambda : len(token_to_index))"
   ]
  },
  {
   "cell_type": "code",
   "execution_count": 164,
   "metadata": {},
   "outputs": [],
   "source": [
    "# 단어에 대한 고유 인덱스를 부여하는 함수\n",
    "def convert_token_to_idx(token_ls):\n",
    "    for tokens in token_ls:\n",
    "        yield [token_to_index[token] for token in tokens]\n",
    "    return"
   ]
  },
  {
   "cell_type": "code",
   "execution_count": 165,
   "metadata": {},
   "outputs": [],
   "source": [
    "X = list(convert_token_to_idx(X))"
   ]
  },
  {
   "cell_type": "code",
   "execution_count": 166,
   "metadata": {},
   "outputs": [],
   "source": [
    "# 고유 인덱스로 변환될 경우, 원래 어떤 단어였는지 알기 어려우므로,\n",
    "# 인덱스로 변환된 단어를 본래의 단어로 재변환하기 위한 dictionary 생성\n",
    "index_to_token = {val : key for key,val in token_to_index.items()}"
   ]
  },
  {
   "cell_type": "markdown",
   "metadata": {},
   "source": [
    " "
   ]
  },
  {
   "cell_type": "markdown",
   "metadata": {},
   "source": [
    "#### 인덱싱 결과 확인 "
   ]
  },
  {
   "cell_type": "code",
   "execution_count": 167,
   "metadata": {},
   "outputs": [],
   "source": [
    "import operator"
   ]
  },
  {
   "cell_type": "code",
   "execution_count": 168,
   "metadata": {},
   "outputs": [
    {
     "name": "stdout",
     "output_type": "stream",
     "text": [
      "주님, 0\n",
      "대림시기를 1\n",
      "맞는 2\n",
      "교회가 3\n",
      "회개와 4\n"
     ]
    }
   ],
   "source": [
    "for k,v in sorted(token_to_index.items(), key=operator.itemgetter(1))[:5]:\n",
    "    print (k,v)"
   ]
  },
  {
   "cell_type": "code",
   "execution_count": 169,
   "metadata": {},
   "outputs": [
    {
     "data": {
      "text/plain": [
       "[0, 1, 2, 3, 4, 5, 6, 7, 8, 9, 10, 11, 12, 13, 14, 15, 16, 17]"
      ]
     },
     "execution_count": 169,
     "metadata": {},
     "output_type": "execute_result"
    }
   ],
   "source": [
    "X[0]"
   ]
  },
  {
   "cell_type": "markdown",
   "metadata": {},
   "source": [
    " "
   ]
  },
  {
   "cell_type": "markdown",
   "metadata": {},
   "source": [
    "### 빈(empty) 단어 가방(Bag of Words) 생성"
   ]
  },
  {
   "cell_type": "code",
   "execution_count": 170,
   "metadata": {},
   "outputs": [],
   "source": [
    "n_train_reviews = len(X)       # 학습용 리뷰의 총 수\n",
    "n_unique_word = len(token_to_index)  # 고유 단어의 갯수 (BOW의 차원의 크기) "
   ]
  },
  {
   "cell_type": "code",
   "execution_count": 171,
   "metadata": {},
   "outputs": [
    {
     "data": {
      "text/plain": [
       "3329"
      ]
     },
     "execution_count": 171,
     "metadata": {},
     "output_type": "execute_result"
    }
   ],
   "source": [
    "n_unique_word"
   ]
  },
  {
   "cell_type": "markdown",
   "metadata": {},
   "source": [
    " "
   ]
  },
  {
   "cell_type": "markdown",
   "metadata": {},
   "source": [
    "### numpy를 사용하면 memory error 발생 "
   ]
  },
  {
   "cell_type": "code",
   "execution_count": 172,
   "metadata": {},
   "outputs": [],
   "source": [
    "import numpy as np"
   ]
  },
  {
   "cell_type": "code",
   "execution_count": 204,
   "metadata": {},
   "outputs": [],
   "source": [
    "bow = np.zeros((n_train_reviews, n_unique_word), dtype=np.float32)"
   ]
  },
  {
   "cell_type": "markdown",
   "metadata": {},
   "source": [
    " "
   ]
  },
  {
   "cell_type": "markdown",
   "metadata": {},
   "source": [
    "### Scipy 패키지 활용"
   ]
  },
  {
   "cell_type": "code",
   "execution_count": 205,
   "metadata": {},
   "outputs": [],
   "source": [
    "# import scipy.sparse as sps"
   ]
  },
  {
   "cell_type": "code",
   "execution_count": 206,
   "metadata": {},
   "outputs": [],
   "source": [
    "# 학습용 리뷰 수(150,000) x 고유 단어의 수(450,541)의 크기를 갖는 빈 단어가방 생성\n",
    "# bow_data = sps.lil_matrix((n_train_reviews, n_unique_word), dtype=np.int8)"
   ]
  },
  {
   "cell_type": "markdown",
   "metadata": {},
   "source": [
    " "
   ]
  },
  {
   "cell_type": "markdown",
   "metadata": {},
   "source": [
    "### 단어 가방 채우기"
   ]
  },
  {
   "cell_type": "code",
   "execution_count": 207,
   "metadata": {},
   "outputs": [],
   "source": [
    "for i, tokens in enumerate(X):\n",
    "    for token in tokens:\n",
    "        # i번 째 리뷰에 등장한 단어들을 세서, 고유 번호에 1씩 더해준다.\n",
    "        bow[i, token] += 1.0"
   ]
  },
  {
   "cell_type": "markdown",
   "metadata": {},
   "source": [
    " "
   ]
  },
  {
   "cell_type": "markdown",
   "metadata": {},
   "source": [
    "### Train / test split"
   ]
  },
  {
   "cell_type": "code",
   "execution_count": 208,
   "metadata": {},
   "outputs": [
    {
     "name": "stdout",
     "output_type": "stream",
     "text": [
      "(619, 3329) (155, 3329) (619,) (155,)\n",
      "[3 2 3 1 0]\n"
     ]
    }
   ],
   "source": [
    "bow_train, bow_test, y_train, y_test = train_test_split(bow, y, test_size=0.2, random_state=1212)\n",
    "print(bow_train.shape, bow_test.shape, y_train.shape, y_test.shape)\n",
    "print(y_train[:5])"
   ]
  },
  {
   "cell_type": "markdown",
   "metadata": {},
   "source": [
    "## Logistic Regression"
   ]
  },
  {
   "cell_type": "code",
   "execution_count": 209,
   "metadata": {},
   "outputs": [],
   "source": [
    "from sklearn.linear_model import LogisticRegression"
   ]
  },
  {
   "cell_type": "code",
   "execution_count": 210,
   "metadata": {},
   "outputs": [],
   "source": [
    "model = LogisticRegression(multi_class='multinomial', solver='lbfgs')"
   ]
  },
  {
   "cell_type": "markdown",
   "metadata": {},
   "source": [
    "### Train"
   ]
  },
  {
   "cell_type": "code",
   "execution_count": 211,
   "metadata": {},
   "outputs": [
    {
     "data": {
      "text/plain": [
       "LogisticRegression(C=1.0, class_weight=None, dual=False, fit_intercept=True,\n",
       "          intercept_scaling=1, max_iter=100, multi_class='multinomial',\n",
       "          n_jobs=1, penalty='l2', random_state=None, solver='lbfgs',\n",
       "          tol=0.0001, verbose=0, warm_start=False)"
      ]
     },
     "execution_count": 211,
     "metadata": {},
     "output_type": "execute_result"
    }
   ],
   "source": [
    "model.fit(bow_train, y_train)"
   ]
  },
  {
   "cell_type": "markdown",
   "metadata": {},
   "source": [
    " "
   ]
  },
  {
   "cell_type": "markdown",
   "metadata": {},
   "source": [
    "### Test"
   ]
  },
  {
   "cell_type": "code",
   "execution_count": 212,
   "metadata": {},
   "outputs": [],
   "source": [
    "from sklearn.metrics import classification_report\n",
    "from sklearn.metrics import accuracy_score"
   ]
  },
  {
   "cell_type": "code",
   "execution_count": 213,
   "metadata": {},
   "outputs": [],
   "source": [
    "predict = model.predict(bow_test)\n",
    "accuracy = accuracy_score(y_test, predict)"
   ]
  },
  {
   "cell_type": "code",
   "execution_count": 214,
   "metadata": {},
   "outputs": [
    {
     "name": "stdout",
     "output_type": "stream",
     "text": [
      "Accuracy :  0.7870967741935484\n",
      "             precision    recall  f1-score   support\n",
      "\n",
      "          0       0.86      0.95      0.90        38\n",
      "          1       0.84      0.76      0.80        42\n",
      "          2       0.81      0.71      0.75        41\n",
      "          3       0.64      0.74      0.68        34\n",
      "\n",
      "avg / total       0.79      0.79      0.79       155\n",
      "\n"
     ]
    }
   ],
   "source": [
    "print('Accuracy : ',accuracy)\n",
    "print(classification_report(y_test, predict))"
   ]
  },
  {
   "cell_type": "markdown",
   "metadata": {},
   "source": [
    "## Pytorch"
   ]
  },
  {
   "cell_type": "code",
   "execution_count": 215,
   "metadata": {},
   "outputs": [],
   "source": [
    "import torch"
   ]
  },
  {
   "cell_type": "code",
   "execution_count": 216,
   "metadata": {},
   "outputs": [
    {
     "data": {
      "text/plain": [
       "(tensor([[1., 0., 0.,  ..., 0., 0., 0.],\n",
       "         [1., 0., 0.,  ..., 0., 0., 0.],\n",
       "         [1., 1., 0.,  ..., 0., 0., 0.],\n",
       "         ...,\n",
       "         [1., 0., 0.,  ..., 0., 0., 0.],\n",
       "         [1., 0., 0.,  ..., 0., 0., 0.],\n",
       "         [1., 0., 0.,  ..., 0., 0., 0.]]),\n",
       " tensor([3, 2, 3, 1, 0, 2, 2, 0, 1, 3, 0, 2, 2, 1, 3, 1, 0, 1, 0, 3, 2, 0, 1, 1,\n",
       "         2, 1, 0, 3, 1, 1, 0, 2, 0, 1, 1, 0, 3, 3, 1, 1, 3, 2, 2, 3, 0, 1, 2, 1,\n",
       "         3, 0, 1, 2, 0, 2, 3, 0, 3, 3, 2, 3, 1, 1, 1, 3, 3, 0, 2, 1, 3, 0, 3, 2,\n",
       "         3, 0, 1, 2, 2, 1, 2, 2, 0, 3, 3, 0, 2, 3, 0, 3, 3, 1, 0, 3, 3, 0, 2, 3,\n",
       "         2, 0, 3, 2, 0, 3, 2, 0, 2, 0, 1, 2, 2, 2, 3, 1, 1, 2, 3, 1, 1, 0, 2, 0,\n",
       "         0, 1, 2, 3, 2, 3, 3, 0, 3, 1, 0, 0, 0, 2, 3, 2, 2, 1, 3, 1, 1, 1, 3, 1,\n",
       "         2, 3, 2, 3, 3, 2, 1, 2, 2, 1, 1, 0, 3, 0, 3, 0, 0, 3, 3, 2, 2, 3, 3, 2,\n",
       "         2, 2, 1, 0, 1, 1, 0, 0, 0, 0, 0, 2, 3, 1, 2, 1, 2, 3, 1, 2, 1, 3, 0, 1,\n",
       "         1, 1, 3, 1, 1, 0, 3, 1, 3, 2, 1, 2, 2, 0, 3, 0, 2, 2, 3, 2, 3, 1, 1, 0,\n",
       "         2, 0, 0, 3, 2, 3, 2, 1, 1, 3, 2, 3, 1, 0, 2, 2, 3, 2, 1, 1, 0, 1, 0, 2,\n",
       "         3, 1, 1, 3, 0, 1, 2, 2, 3, 1, 1, 3, 1, 2, 1, 2, 2, 0, 2, 0, 1, 2, 1, 0,\n",
       "         1, 0, 1, 0, 3, 0, 1, 3, 2, 3, 3, 1, 0, 3, 2, 1, 2, 1, 1, 2, 3, 0, 3, 0,\n",
       "         0, 2, 0, 1, 3, 3, 2, 0, 3, 0, 2, 0, 0, 3, 2, 0, 3, 2, 2, 1, 2, 1, 1, 3,\n",
       "         0, 3, 0, 3, 3, 2, 0, 0, 2, 1, 2, 2, 2, 0, 0, 1, 2, 3, 1, 2, 2, 1, 1, 2,\n",
       "         1, 2, 1, 2, 0, 3, 0, 0, 1, 3, 1, 2, 3, 3, 3, 0, 3, 0, 3, 3, 0, 3, 2, 0,\n",
       "         2, 0, 2, 1, 2, 3, 0, 2, 1, 1, 0, 3, 3, 0, 2, 1, 1, 1, 2, 3, 0, 0, 2, 0,\n",
       "         2, 0, 2, 2, 0, 1, 2, 0, 0, 0, 2, 1, 1, 3, 1, 0, 2, 3, 1, 1, 0, 3, 1, 3,\n",
       "         2, 2, 3, 3, 3, 3, 2, 2, 1, 3, 1, 1, 3, 2, 3, 0, 3, 2, 3, 1, 3, 1, 2, 0,\n",
       "         0, 0, 2, 1, 2, 3, 2, 0, 3, 2, 3, 3, 2, 3, 1, 2, 1, 3, 1, 2, 3, 0, 0, 1,\n",
       "         3, 2, 3, 2, 2, 1, 2, 0, 0, 3, 3, 2, 3, 0, 0, 1, 3, 2, 1, 2, 1, 0, 2, 1,\n",
       "         0, 0, 3, 0, 1, 2, 0, 2, 1, 3, 2, 3, 3, 2, 2, 3, 0, 3, 3, 3, 0, 3, 2, 2,\n",
       "         0, 1, 0, 0, 2, 0, 3, 0, 0, 3, 0, 1, 0, 3, 3, 0, 1, 2, 1, 1, 0, 1, 2, 0,\n",
       "         0, 0, 0, 0, 2, 2, 3, 3, 1, 1, 2, 0, 1, 2, 2, 0, 1, 0, 3, 1, 2, 1, 1, 2,\n",
       "         2, 0, 3, 3, 0, 0, 0, 3, 0, 2, 0, 1, 0, 1, 0, 1, 1, 0, 2, 3, 0, 3, 3, 1,\n",
       "         1, 2, 1, 1, 0, 3, 3, 3, 0, 3, 0, 3, 1, 3, 2, 1, 0, 3, 1, 0, 3, 0, 1, 3,\n",
       "         3, 2, 3, 3, 0, 1, 3, 1, 0, 3, 0, 0, 1, 1, 3, 1, 1, 1, 0]),\n",
       " tensor([[1., 0., 0.,  ..., 0., 0., 0.],\n",
       "         [2., 0., 0.,  ..., 0., 0., 0.],\n",
       "         [1., 0., 0.,  ..., 0., 0., 0.],\n",
       "         ...,\n",
       "         [1., 0., 0.,  ..., 0., 0., 0.],\n",
       "         [1., 0., 0.,  ..., 0., 0., 0.],\n",
       "         [1., 0., 0.,  ..., 0., 0., 0.]]),\n",
       " tensor([0, 0, 2, 3, 2, 2, 3, 1, 3, 0, 0, 1, 2, 3, 0, 1, 1, 1, 0, 2, 0, 2, 2, 1,\n",
       "         3, 2, 0, 3, 1, 2, 2, 2, 2, 2, 2, 3, 3, 0, 0, 2, 2, 1, 1, 2, 2, 1, 2, 2,\n",
       "         1, 0, 3, 0, 1, 1, 0, 1, 3, 3, 0, 1, 1, 2, 0, 1, 1, 1, 0, 0, 1, 0, 3, 3,\n",
       "         3, 3, 2, 3, 3, 2, 1, 0, 0, 1, 2, 3, 2, 2, 2, 0, 2, 0, 3, 0, 1, 1, 1, 3,\n",
       "         1, 2, 0, 1, 3, 0, 0, 0, 1, 1, 0, 2, 1, 0, 2, 2, 0, 1, 2, 3, 0, 3, 1, 1,\n",
       "         0, 3, 2, 3, 1, 3, 1, 1, 2, 2, 1, 0, 3, 1, 3, 1, 2, 2, 1, 1, 2, 0, 1, 3,\n",
       "         0, 3, 3, 0, 3, 0, 3, 2, 2, 0, 3]))"
      ]
     },
     "execution_count": 216,
     "metadata": {},
     "output_type": "execute_result"
    }
   ],
   "source": [
    "# dataset : bow_train, bow_test, y_train, y_test\n",
    "bow_train, y_train, bow_test, y_test = map(\n",
    "    torch.tensor, (bow_train, y_train, bow_test, y_test)\n",
    ")\n",
    "bow_train, y_train, bow_test, y_test"
   ]
  },
  {
   "cell_type": "code",
   "execution_count": 217,
   "metadata": {},
   "outputs": [
    {
     "name": "stdout",
     "output_type": "stream",
     "text": [
      "torch.Size([619, 3329])\n"
     ]
    }
   ],
   "source": [
    "n, c = bow_train.shape\n",
    "print(bow_train.shape)"
   ]
  },
  {
   "cell_type": "code",
   "execution_count": 218,
   "metadata": {},
   "outputs": [
    {
     "name": "stdout",
     "output_type": "stream",
     "text": [
      "tensor(0) tensor(3)\n",
      "tensor(0) tensor(3)\n"
     ]
    }
   ],
   "source": [
    "print(y_train.min(), y_train.max())\n",
    "print(y_test.min(), y_test.max())"
   ]
  },
  {
   "cell_type": "code",
   "execution_count": 254,
   "metadata": {},
   "outputs": [
    {
     "name": "stdout",
     "output_type": "stream",
     "text": [
      "tensor([[1., 0., 0.,  ..., 0., 0., 0.],\n",
      "        [1., 0., 0.,  ..., 0., 0., 0.],\n",
      "        [1., 1., 0.,  ..., 0., 0., 0.],\n",
      "        [1., 0., 0.,  ..., 0., 0., 0.],\n",
      "        [1., 0., 0.,  ..., 0., 0., 0.]])\n",
      "tensor([3, 2, 3, 1, 0])\n"
     ]
    }
   ],
   "source": [
    "bs = 64  # batch size\n",
    "\n",
    "xb = bow_train[0:bs]  # a mini-batch from x\n",
    "yb = y_train[0:bs]\n",
    "xv = bow_test[0:bs]\n",
    "yv = y_test[0:bs]\n",
    "\n",
    "print(xb[:5])\n",
    "print(yb[:5])\n"
   ]
  },
  {
   "cell_type": "code",
   "execution_count": 262,
   "metadata": {},
   "outputs": [
    {
     "name": "stdout",
     "output_type": "stream",
     "text": [
      "tensor(1.3824, grad_fn=<NegBackward>) tensor(0.3488)\n",
      "tensor(1.3886, grad_fn=<NegBackward>) tensor(0.2969)\n"
     ]
    }
   ],
   "source": [
    "import math\n",
    "\n",
    "weights = torch.randn(3329, 4) / math.sqrt(3329)\n",
    "weights.requires_grad_()\n",
    "bias = torch.zeros(4, requires_grad=True)\n",
    "\n",
    "def log_softmax(x):\n",
    "    return x - x.exp().sum(-1).log().unsqueeze(-1)\n",
    "\n",
    "def model(xb):\n",
    "    return log_softmax(xb @ weights + bias)\n",
    "def nll(pred, gt):\n",
    "    return -pred[range(gt.shape[0]), gt].mean()\n",
    "\n",
    "loss_func = nll\n",
    "\n",
    "\n",
    "def accuracy(out, y):\n",
    "    preds = torch.argmax(out, dim=1)\n",
    "    return (preds == y).float().mean()\n",
    "\n",
    "print(loss_func(model(xb), yb), accuracy(model(xb), yb))\n",
    "print(loss_func(model(xv), yv), accuracy(model(xv), yv))\n"
   ]
  },
  {
   "cell_type": "code",
   "execution_count": 263,
   "metadata": {},
   "outputs": [
    {
     "name": "stdout",
     "output_type": "stream",
     "text": [
      "tensor(1.0691, grad_fn=<NegBackward>) tensor(0.8605) tensor(1.1811, grad_fn=<NegBackward>) tensor(0.6562)\n",
      "tensor(0.9068, grad_fn=<NegBackward>) tensor(0.8605) tensor(1.0320, grad_fn=<NegBackward>) tensor(0.7031)\n",
      "tensor(0.7920, grad_fn=<NegBackward>) tensor(0.8605) tensor(0.9354, grad_fn=<NegBackward>) tensor(0.7344)\n",
      "tensor(0.7044, grad_fn=<NegBackward>) tensor(0.8837) tensor(0.8678, grad_fn=<NegBackward>) tensor(0.7812)\n",
      "tensor(0.6344, grad_fn=<NegBackward>) tensor(0.9070) tensor(0.8179, grad_fn=<NegBackward>) tensor(0.7969)\n",
      "tensor(0.5766, grad_fn=<NegBackward>) tensor(0.9302) tensor(0.7796, grad_fn=<NegBackward>) tensor(0.8125)\n",
      "tensor(0.5280, grad_fn=<NegBackward>) tensor(0.9302) tensor(0.7493, grad_fn=<NegBackward>) tensor(0.8125)\n",
      "tensor(0.4864, grad_fn=<NegBackward>) tensor(0.9302) tensor(0.7248, grad_fn=<NegBackward>) tensor(0.8125)\n",
      "tensor(0.4503, grad_fn=<NegBackward>) tensor(0.9535) tensor(0.7047, grad_fn=<NegBackward>) tensor(0.8125)\n",
      "tensor(0.4188, grad_fn=<NegBackward>) tensor(0.9767) tensor(0.6880, grad_fn=<NegBackward>) tensor(0.8125)\n",
      "tensor(0.3910, grad_fn=<NegBackward>) tensor(0.9767) tensor(0.6738, grad_fn=<NegBackward>) tensor(0.8125)\n",
      "tensor(0.3663, grad_fn=<NegBackward>) tensor(0.9767) tensor(0.6617, grad_fn=<NegBackward>) tensor(0.8125)\n",
      "tensor(0.3442, grad_fn=<NegBackward>) tensor(0.9767) tensor(0.6512, grad_fn=<NegBackward>) tensor(0.8125)\n",
      "tensor(0.3244, grad_fn=<NegBackward>) tensor(0.9767) tensor(0.6421, grad_fn=<NegBackward>) tensor(0.8125)\n",
      "tensor(0.3065, grad_fn=<NegBackward>) tensor(0.9767) tensor(0.6342, grad_fn=<NegBackward>) tensor(0.8125)\n",
      "tensor(0.2903, grad_fn=<NegBackward>) tensor(0.9767) tensor(0.6271, grad_fn=<NegBackward>) tensor(0.8125)\n",
      "tensor(0.2756, grad_fn=<NegBackward>) tensor(0.9767) tensor(0.6209, grad_fn=<NegBackward>) tensor(0.8125)\n",
      "tensor(0.2621, grad_fn=<NegBackward>) tensor(0.9767) tensor(0.6153, grad_fn=<NegBackward>) tensor(0.8125)\n",
      "tensor(0.2498, grad_fn=<NegBackward>) tensor(0.9767) tensor(0.6103, grad_fn=<NegBackward>) tensor(0.8125)\n",
      "tensor(0.2384, grad_fn=<NegBackward>) tensor(0.9767) tensor(0.6058, grad_fn=<NegBackward>) tensor(0.8125)\n",
      "tensor(0.2280, grad_fn=<NegBackward>) tensor(0.9767) tensor(0.6017, grad_fn=<NegBackward>) tensor(0.8125)\n",
      "tensor(0.2183, grad_fn=<NegBackward>) tensor(1.) tensor(0.5980, grad_fn=<NegBackward>) tensor(0.8125)\n",
      "tensor(0.2093, grad_fn=<NegBackward>) tensor(1.) tensor(0.5946, grad_fn=<NegBackward>) tensor(0.8125)\n",
      "tensor(0.2010, grad_fn=<NegBackward>) tensor(1.) tensor(0.5915, grad_fn=<NegBackward>) tensor(0.8125)\n",
      "tensor(0.1933, grad_fn=<NegBackward>) tensor(1.) tensor(0.5887, grad_fn=<NegBackward>) tensor(0.8125)\n",
      "tensor(0.1861, grad_fn=<NegBackward>) tensor(1.) tensor(0.5861, grad_fn=<NegBackward>) tensor(0.8125)\n",
      "tensor(0.1793, grad_fn=<NegBackward>) tensor(1.) tensor(0.5837, grad_fn=<NegBackward>) tensor(0.8125)\n",
      "tensor(0.1730, grad_fn=<NegBackward>) tensor(1.) tensor(0.5814, grad_fn=<NegBackward>) tensor(0.8125)\n",
      "tensor(0.1671, grad_fn=<NegBackward>) tensor(1.) tensor(0.5793, grad_fn=<NegBackward>) tensor(0.8125)\n",
      "tensor(0.1615, grad_fn=<NegBackward>) tensor(1.) tensor(0.5774, grad_fn=<NegBackward>) tensor(0.8125)\n",
      "tensor(0.1563, grad_fn=<NegBackward>) tensor(1.) tensor(0.5756, grad_fn=<NegBackward>) tensor(0.8125)\n",
      "tensor(0.1514, grad_fn=<NegBackward>) tensor(1.) tensor(0.5739, grad_fn=<NegBackward>) tensor(0.8125)\n",
      "tensor(0.1467, grad_fn=<NegBackward>) tensor(1.) tensor(0.5724, grad_fn=<NegBackward>) tensor(0.8125)\n",
      "tensor(0.1423, grad_fn=<NegBackward>) tensor(1.) tensor(0.5709, grad_fn=<NegBackward>) tensor(0.8125)\n",
      "tensor(0.1382, grad_fn=<NegBackward>) tensor(1.) tensor(0.5695, grad_fn=<NegBackward>) tensor(0.8125)\n",
      "tensor(0.1342, grad_fn=<NegBackward>) tensor(1.) tensor(0.5682, grad_fn=<NegBackward>) tensor(0.8125)\n",
      "tensor(0.1305, grad_fn=<NegBackward>) tensor(1.) tensor(0.5670, grad_fn=<NegBackward>) tensor(0.8125)\n",
      "tensor(0.1270, grad_fn=<NegBackward>) tensor(1.) tensor(0.5659, grad_fn=<NegBackward>) tensor(0.8125)\n",
      "tensor(0.1236, grad_fn=<NegBackward>) tensor(1.) tensor(0.5648, grad_fn=<NegBackward>) tensor(0.8125)\n",
      "tensor(0.1204, grad_fn=<NegBackward>) tensor(1.) tensor(0.5638, grad_fn=<NegBackward>) tensor(0.8125)\n",
      "tensor(0.1174, grad_fn=<NegBackward>) tensor(1.) tensor(0.5628, grad_fn=<NegBackward>) tensor(0.8125)\n",
      "tensor(0.1144, grad_fn=<NegBackward>) tensor(1.) tensor(0.5619, grad_fn=<NegBackward>) tensor(0.8125)\n",
      "tensor(0.1117, grad_fn=<NegBackward>) tensor(1.) tensor(0.5610, grad_fn=<NegBackward>) tensor(0.8125)\n",
      "tensor(0.1090, grad_fn=<NegBackward>) tensor(1.) tensor(0.5602, grad_fn=<NegBackward>) tensor(0.8125)\n",
      "tensor(0.1065, grad_fn=<NegBackward>) tensor(1.) tensor(0.5595, grad_fn=<NegBackward>) tensor(0.8125)\n",
      "tensor(0.1041, grad_fn=<NegBackward>) tensor(1.) tensor(0.5588, grad_fn=<NegBackward>) tensor(0.8125)\n",
      "tensor(0.1017, grad_fn=<NegBackward>) tensor(1.) tensor(0.5581, grad_fn=<NegBackward>) tensor(0.8125)\n",
      "tensor(0.0995, grad_fn=<NegBackward>) tensor(1.) tensor(0.5574, grad_fn=<NegBackward>) tensor(0.8125)\n",
      "tensor(0.0974, grad_fn=<NegBackward>) tensor(1.) tensor(0.5568, grad_fn=<NegBackward>) tensor(0.8125)\n",
      "tensor(0.0953, grad_fn=<NegBackward>) tensor(1.) tensor(0.5562, grad_fn=<NegBackward>) tensor(0.8125)\n",
      "tensor(0.0934, grad_fn=<NegBackward>) tensor(1.) tensor(0.5557, grad_fn=<NegBackward>) tensor(0.8125)\n",
      "tensor(0.0915, grad_fn=<NegBackward>) tensor(1.) tensor(0.5552, grad_fn=<NegBackward>) tensor(0.8125)\n",
      "tensor(0.0897, grad_fn=<NegBackward>) tensor(1.) tensor(0.5547, grad_fn=<NegBackward>) tensor(0.8125)\n",
      "tensor(0.0879, grad_fn=<NegBackward>) tensor(1.) tensor(0.5542, grad_fn=<NegBackward>) tensor(0.8125)\n",
      "tensor(0.0862, grad_fn=<NegBackward>) tensor(1.) tensor(0.5538, grad_fn=<NegBackward>) tensor(0.8125)\n",
      "tensor(0.0846, grad_fn=<NegBackward>) tensor(1.) tensor(0.5533, grad_fn=<NegBackward>) tensor(0.8125)\n",
      "tensor(0.0830, grad_fn=<NegBackward>) tensor(1.) tensor(0.5529, grad_fn=<NegBackward>) tensor(0.8125)\n",
      "tensor(0.0815, grad_fn=<NegBackward>) tensor(1.) tensor(0.5526, grad_fn=<NegBackward>) tensor(0.8125)\n",
      "tensor(0.0800, grad_fn=<NegBackward>) tensor(1.) tensor(0.5522, grad_fn=<NegBackward>) tensor(0.8125)\n",
      "tensor(0.0786, grad_fn=<NegBackward>) tensor(1.) tensor(0.5519, grad_fn=<NegBackward>) tensor(0.8125)\n",
      "tensor(0.0773, grad_fn=<NegBackward>) tensor(1.) tensor(0.5515, grad_fn=<NegBackward>) tensor(0.8125)\n",
      "tensor(0.0759, grad_fn=<NegBackward>) tensor(1.) tensor(0.5512, grad_fn=<NegBackward>) tensor(0.8125)\n",
      "tensor(0.0747, grad_fn=<NegBackward>) tensor(1.) tensor(0.5510, grad_fn=<NegBackward>) tensor(0.8125)\n",
      "tensor(0.0734, grad_fn=<NegBackward>) tensor(1.) tensor(0.5507, grad_fn=<NegBackward>) tensor(0.8125)\n",
      "tensor(0.0722, grad_fn=<NegBackward>) tensor(1.) tensor(0.5504, grad_fn=<NegBackward>) tensor(0.8125)\n",
      "tensor(0.0711, grad_fn=<NegBackward>) tensor(1.) tensor(0.5502, grad_fn=<NegBackward>) tensor(0.8125)\n",
      "tensor(0.0699, grad_fn=<NegBackward>) tensor(1.) tensor(0.5500, grad_fn=<NegBackward>) tensor(0.8125)\n",
      "tensor(0.0689, grad_fn=<NegBackward>) tensor(1.) tensor(0.5497, grad_fn=<NegBackward>) tensor(0.8125)\n",
      "tensor(0.0678, grad_fn=<NegBackward>) tensor(1.) tensor(0.5495, grad_fn=<NegBackward>) tensor(0.7969)\n",
      "tensor(0.0668, grad_fn=<NegBackward>) tensor(1.) tensor(0.5493, grad_fn=<NegBackward>) tensor(0.7969)\n",
      "tensor(0.0658, grad_fn=<NegBackward>) tensor(1.) tensor(0.5492, grad_fn=<NegBackward>) tensor(0.7969)\n",
      "tensor(0.0648, grad_fn=<NegBackward>) tensor(1.) tensor(0.5490, grad_fn=<NegBackward>) tensor(0.7969)\n",
      "tensor(0.0639, grad_fn=<NegBackward>) tensor(1.) tensor(0.5488, grad_fn=<NegBackward>) tensor(0.7969)\n",
      "tensor(0.0629, grad_fn=<NegBackward>) tensor(1.) tensor(0.5487, grad_fn=<NegBackward>) tensor(0.7969)\n",
      "tensor(0.0620, grad_fn=<NegBackward>) tensor(1.) tensor(0.5485, grad_fn=<NegBackward>) tensor(0.7969)\n",
      "tensor(0.0612, grad_fn=<NegBackward>) tensor(1.) tensor(0.5484, grad_fn=<NegBackward>) tensor(0.7969)\n",
      "tensor(0.0603, grad_fn=<NegBackward>) tensor(1.) tensor(0.5483, grad_fn=<NegBackward>) tensor(0.8125)\n",
      "tensor(0.0595, grad_fn=<NegBackward>) tensor(1.) tensor(0.5482, grad_fn=<NegBackward>) tensor(0.8125)\n",
      "tensor(0.0587, grad_fn=<NegBackward>) tensor(1.) tensor(0.5481, grad_fn=<NegBackward>) tensor(0.8125)\n",
      "tensor(0.0579, grad_fn=<NegBackward>) tensor(1.) tensor(0.5480, grad_fn=<NegBackward>) tensor(0.8125)\n",
      "tensor(0.0572, grad_fn=<NegBackward>) tensor(1.) tensor(0.5479, grad_fn=<NegBackward>) tensor(0.8125)\n",
      "tensor(0.0564, grad_fn=<NegBackward>) tensor(1.) tensor(0.5478, grad_fn=<NegBackward>) tensor(0.8125)\n",
      "tensor(0.0557, grad_fn=<NegBackward>) tensor(1.) tensor(0.5477, grad_fn=<NegBackward>) tensor(0.8125)\n",
      "tensor(0.0550, grad_fn=<NegBackward>) tensor(1.) tensor(0.5477, grad_fn=<NegBackward>) tensor(0.8125)\n",
      "tensor(0.0543, grad_fn=<NegBackward>) tensor(1.) tensor(0.5476, grad_fn=<NegBackward>) tensor(0.8125)\n",
      "tensor(0.0536, grad_fn=<NegBackward>) tensor(1.) tensor(0.5475, grad_fn=<NegBackward>) tensor(0.8125)\n",
      "tensor(0.0530, grad_fn=<NegBackward>) tensor(1.) tensor(0.5475, grad_fn=<NegBackward>) tensor(0.8125)\n",
      "tensor(0.0524, grad_fn=<NegBackward>) tensor(1.) tensor(0.5474, grad_fn=<NegBackward>) tensor(0.8125)\n",
      "tensor(0.0517, grad_fn=<NegBackward>) tensor(1.) tensor(0.5474, grad_fn=<NegBackward>) tensor(0.8125)\n",
      "tensor(0.0511, grad_fn=<NegBackward>) tensor(1.) tensor(0.5474, grad_fn=<NegBackward>) tensor(0.8125)\n",
      "tensor(0.0505, grad_fn=<NegBackward>) tensor(1.) tensor(0.5473, grad_fn=<NegBackward>) tensor(0.8125)\n",
      "tensor(0.0499, grad_fn=<NegBackward>) tensor(1.) tensor(0.5473, grad_fn=<NegBackward>) tensor(0.8125)\n",
      "tensor(0.0494, grad_fn=<NegBackward>) tensor(1.) tensor(0.5473, grad_fn=<NegBackward>) tensor(0.8125)\n"
     ]
    },
    {
     "name": "stdout",
     "output_type": "stream",
     "text": [
      "tensor(0.0488, grad_fn=<NegBackward>) tensor(1.) tensor(0.5473, grad_fn=<NegBackward>) tensor(0.8125)\n",
      "tensor(0.0483, grad_fn=<NegBackward>) tensor(1.) tensor(0.5473, grad_fn=<NegBackward>) tensor(0.8125)\n",
      "tensor(0.0477, grad_fn=<NegBackward>) tensor(1.) tensor(0.5472, grad_fn=<NegBackward>) tensor(0.8125)\n",
      "tensor(0.0472, grad_fn=<NegBackward>) tensor(1.) tensor(0.5472, grad_fn=<NegBackward>) tensor(0.8125)\n",
      "tensor(0.0467, grad_fn=<NegBackward>) tensor(1.) tensor(0.5472, grad_fn=<NegBackward>) tensor(0.8125)\n",
      "tensor(0.0462, grad_fn=<NegBackward>) tensor(1.) tensor(0.5472, grad_fn=<NegBackward>) tensor(0.8125)\n",
      "tensor(0.0457, grad_fn=<NegBackward>) tensor(1.) tensor(0.5473, grad_fn=<NegBackward>) tensor(0.8125)\n"
     ]
    }
   ],
   "source": [
    "from IPython.core.debugger import set_trace\n",
    "\n",
    "lr = 0.5  # learning rate\n",
    "epochs = 100  # how many epochs to train for\n",
    "\n",
    "for epoch in range(epochs):\n",
    "    for i in range((n - 1) // bs + 1):\n",
    "        \n",
    "        start_i = i * bs\n",
    "        end_i = start_i + bs\n",
    "        xb = bow_train[start_i:end_i]\n",
    "        yb = y_train[start_i:end_i]\n",
    "        \n",
    "        ## Feed foward\n",
    "        pred = model(xb)\n",
    "        loss = loss_func(pred, yb)\n",
    "        \n",
    "        ## Backpropagation\n",
    "        loss.backward()\n",
    "        \n",
    "        with torch.no_grad():\n",
    "            weights -= weights.grad * lr\n",
    "            bias -= bias.grad * lr\n",
    "            weights.grad.zero_()\n",
    "            bias.grad.zero_()\n",
    "        \n",
    "    print(loss_func(model(xb), yb), accuracy(model(xb), yb), loss_func(model(xv), yv), accuracy(model(xv), yv))"
   ]
  },
  {
   "cell_type": "code",
   "execution_count": 257,
   "metadata": {},
   "outputs": [],
   "source": [
    "from torch import nn\n",
    "\n",
    "class Mnist_Logistic(nn.Module):\n",
    "    def __init__(self):\n",
    "        super().__init__()\n",
    "        self.weights = nn.Parameter(torch.randn(3329, 4) / math.sqrt(3329))\n",
    "        self.bias = nn.Parameter(torch.zeros(4))\n",
    "\n",
    "    def forward(self, xb):\n",
    "        return xb @ self.weights + self.bias\n",
    "\n",
    "model = Mnist_Logistic()"
   ]
  },
  {
   "cell_type": "code",
   "execution_count": 258,
   "metadata": {},
   "outputs": [],
   "source": [
    "def fit():\n",
    "    for epoch in range(epochs):\n",
    "        for i in range((n - 1) // bs + 1):\n",
    "            start_i = i * bs\n",
    "            end_i = start_i + bs\n",
    "            xb = bow_train[start_i:end_i]\n",
    "            yb = y_train[start_i:end_i]\n",
    "            pred = model(xb)\n",
    "            loss = loss_func(pred, yb)\n",
    "\n",
    "            loss.backward()\n",
    "            with torch.no_grad():\n",
    "                for p in model.parameters():\n",
    "                    p -= p.grad * lr\n",
    "                model.zero_grad()\n",
    "\n",
    "fit()"
   ]
  },
  {
   "cell_type": "code",
   "execution_count": 259,
   "metadata": {},
   "outputs": [
    {
     "name": "stdout",
     "output_type": "stream",
     "text": [
      "tensor(-45.7002, grad_fn=<NegBackward>)\n"
     ]
    }
   ],
   "source": [
    "print(loss_func(model(xb), yb))"
   ]
  },
  {
   "cell_type": "code",
   "execution_count": 260,
   "metadata": {},
   "outputs": [
    {
     "name": "stdout",
     "output_type": "stream",
     "text": [
      "tensor(-44.5664, grad_fn=<NegBackward>)\n"
     ]
    }
   ],
   "source": [
    "print(loss_func(model(xv), yv))"
   ]
  },
  {
   "cell_type": "code",
   "execution_count": null,
   "metadata": {},
   "outputs": [],
   "source": []
  }
 ],
 "metadata": {
  "kernelspec": {
   "display_name": "Python 3",
   "language": "python",
   "name": "python3"
  },
  "language_info": {
   "codemirror_mode": {
    "name": "ipython",
    "version": 3
   },
   "file_extension": ".py",
   "mimetype": "text/x-python",
   "name": "python",
   "nbconvert_exporter": "python",
   "pygments_lexer": "ipython3",
   "version": "3.6.4"
  }
 },
 "nbformat": 4,
 "nbformat_minor": 2
}

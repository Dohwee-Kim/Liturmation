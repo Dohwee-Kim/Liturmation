{
 "cells": [
  {
   "cell_type": "code",
   "execution_count": 9,
   "metadata": {},
   "outputs": [],
   "source": [
    "import pandas as pd\n",
    "import os, sys\n"
   ]
  },
  {
   "cell_type": "code",
   "execution_count": 19,
   "metadata": {},
   "outputs": [
    {
     "data": {
      "text/plain": [
       "['1. 하느님 백성을 위하여 기도합시다.',\n",
       " '주님, 당신을 주님으로 고백하며 살아가는 하느님 백성으로 하여금 날마다 새롭게 당신을 닮은 신앙인이 되기 위해 노력하며 살아가게 하소서.',\n",
       " '2. 본당 공동체를 위하여 기도합시다.',\n",
       " '주님, 오늘 새 신자들을 받아들인 저희 공동체로 하여금 새로운 힘을 얻고 더욱 사랑하며 일치하게 하시어 당신의 사랑을 세상에 전파하게 하소서.',\n",
       " '3. 교리 봉사자를 위하여 기도합시다.',\n",
       " '주님, 복음을 전파하는 사도들의 삶을 본받아 봉사하는 교리 봉사자들로 하여금 그들에게 주어진 사명의 중요함을 깨닫게 하시고 교리 봉사 활동을 통하여 그들의 신앙 또한 더욱 성숙할 수 있도록 도와주소서.',\n",
       " '4. 환영식에 참석한 새 신자들을 위하여 기도합시다.',\n",
       " '자비로우신 주님, 당신을 알고자, 당신을 사랑하고자, 이 자리에 온 예비신자들로 하여금 당신을 알아 그들의 삶이 즐겁고 풍요롭게 하시며 세례성사를 받는 그 날까지 지켜주시고 이들의 가정에 건강과 축복 내려주소서.',\n",
       " '4. 받아드리는 예식에 참여한 새 신자들을 위하여 기도합시다.',\n",
       " '주님! 당신을 진심으로 고백하며 살아가는 새 신자들에게 하느님 백성으로 날마다 새롭게 당신을 닮은 신앙인이 될 수 있도록 자비를 베푸소서.']"
      ]
     },
     "execution_count": 19,
     "metadata": {},
     "output_type": "execute_result"
    }
   ],
   "source": [
    "pray1_file = \"../data/pray2.txt\"\n",
    "\n",
    "with open(pray1_file, 'r', encoding='utf-8-sig') as f:\n",
    "    data = f.readlines()\n",
    "    data = [x.strip() for x in data]\n",
    "    data = [x for x in data if x]\n",
    "data[:10]\n",
    "\n",
    "for line"
   ]
  },
  {
   "cell_type": "code",
   "execution_count": null,
   "metadata": {},
   "outputs": [],
   "source": []
  }
 ],
 "metadata": {
  "kernelspec": {
   "display_name": "Python 3",
   "language": "python",
   "name": "python3"
  },
  "language_info": {
   "codemirror_mode": {
    "name": "ipython",
    "version": 3
   },
   "file_extension": ".py",
   "mimetype": "text/x-python",
   "name": "python",
   "nbconvert_exporter": "python",
   "pygments_lexer": "ipython3",
   "version": "3.6.4"
  }
 },
 "nbformat": 4,
 "nbformat_minor": 2
}
